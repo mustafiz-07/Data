{
  "nbformat": 4,
  "nbformat_minor": 0,
  "metadata": {
    "colab": {
      "provenance": [],
      "authorship_tag": "ABX9TyMKIh5ev1ld1ejZ4ogW/JKq",
      "include_colab_link": true
    },
    "kernelspec": {
      "name": "python3",
      "display_name": "Python 3"
    },
    "language_info": {
      "name": "python"
    }
  },
  "cells": [
    {
      "cell_type": "markdown",
      "metadata": {
        "id": "view-in-github",
        "colab_type": "text"
      },
      "source": [
        "<a href=\"https://colab.research.google.com/github/mustafiz-07/Data/blob/main/Fake_news_detection.ipynb\" target=\"_parent\"><img src=\"https://colab.research.google.com/assets/colab-badge.svg\" alt=\"Open In Colab\"/></a>"
      ]
    },
    {
      "cell_type": "markdown",
      "source": [
        "##Importing dependencies"
      ],
      "metadata": {
        "id": "rGYSZSVVv9Ng"
      }
    },
    {
      "cell_type": "code",
      "source": [
        "import pandas as pd\n",
        "import numpy as np\n",
        "import re\n",
        "import nltk\n",
        "from nltk.corpus import stopwords\n",
        "from nltk.stem.porter import PorterStemmer\n",
        "from sklearn.feature_extraction.text import TfidfVectorizer\n",
        "from sklearn.model_selection import train_test_split\n",
        "from sklearn import svm\n",
        "from sklearn.metrics import accuracy_score\n",
        "\n",
        "nltk.download('stopwords')"
      ],
      "metadata": {
        "colab": {
          "base_uri": "https://localhost:8080/"
        },
        "id": "bJykZHprvbPI",
        "outputId": "286b2a42-dd94-41b4-db3e-c6799b077575"
      },
      "execution_count": 1,
      "outputs": [
        {
          "output_type": "stream",
          "name": "stderr",
          "text": [
            "[nltk_data] Downloading package stopwords to /root/nltk_data...\n",
            "[nltk_data]   Unzipping corpora/stopwords.zip.\n"
          ]
        },
        {
          "output_type": "execute_result",
          "data": {
            "text/plain": [
              "True"
            ]
          },
          "metadata": {},
          "execution_count": 1
        }
      ]
    },
    {
      "cell_type": "markdown",
      "source": [
        "##Importing dataset from kagglehub"
      ],
      "metadata": {
        "id": "muECyYrJwMJN"
      }
    },
    {
      "cell_type": "code",
      "execution_count": 2,
      "metadata": {
        "colab": {
          "base_uri": "https://localhost:8080/"
        },
        "id": "5opmFD5O-ck5",
        "outputId": "a46e3fa5-5c95-4e37-bd0c-477a65d89971"
      },
      "outputs": [
        {
          "output_type": "stream",
          "name": "stderr",
          "text": [
            "/tmp/ipython-input-2-1910074427.py:6: DeprecationWarning: load_dataset is deprecated and will be removed in a future version.\n",
            "  df = kagglehub.load_dataset(\n"
          ]
        },
        {
          "output_type": "stream",
          "name": "stdout",
          "text": [
            "Downloading from https://www.kaggle.com/api/v1/datasets/download/mahdimashayekhi/fake-news-detection-dataset?dataset_version_number=1&file_name=fake_news_dataset.csv...\n"
          ]
        },
        {
          "output_type": "stream",
          "name": "stderr",
          "text": [
            "100%|██████████| 32.8M/32.8M [00:01<00:00, 32.8MB/s]\n"
          ]
        }
      ],
      "source": [
        "\n",
        "import kagglehub\n",
        "from kagglehub import KaggleDatasetAdapter\n",
        "\n",
        "file_path = \"fake_news_dataset.csv\"\n",
        "\n",
        "df = kagglehub.load_dataset(\n",
        "  KaggleDatasetAdapter.PANDAS,\n",
        "  \"mahdimashayekhi/fake-news-detection-dataset\",\n",
        "  file_path,\n",
        ")\n"
      ]
    },
    {
      "cell_type": "code",
      "source": [
        "print(df.columns)"
      ],
      "metadata": {
        "colab": {
          "base_uri": "https://localhost:8080/"
        },
        "id": "ncHUH1BQUSbQ",
        "outputId": "26e23e0d-73ba-4f0c-f924-f150f246c164"
      },
      "execution_count": 3,
      "outputs": [
        {
          "output_type": "stream",
          "name": "stdout",
          "text": [
            "Index(['title', 'text', 'date', 'source', 'author', 'category', 'label'], dtype='object')\n"
          ]
        }
      ]
    },
    {
      "cell_type": "markdown",
      "source": [
        "##Data Pre-processing"
      ],
      "metadata": {
        "id": "iYed18mTwogw"
      }
    },
    {
      "cell_type": "code",
      "source": [
        "df.shape"
      ],
      "metadata": {
        "colab": {
          "base_uri": "https://localhost:8080/"
        },
        "id": "R1h9Z1Mhktf3",
        "outputId": "6ffa75b9-6014-4fc5-b9aa-b667637e01e9"
      },
      "execution_count": 4,
      "outputs": [
        {
          "output_type": "execute_result",
          "data": {
            "text/plain": [
              "(20000, 7)"
            ]
          },
          "metadata": {},
          "execution_count": 4
        }
      ]
    },
    {
      "cell_type": "code",
      "source": [
        "df.head()"
      ],
      "metadata": {
        "colab": {
          "base_uri": "https://localhost:8080/",
          "height": 206
        },
        "id": "d7PIKrUGwxua",
        "outputId": "9b129228-9d71-44a3-c7db-7558de8b6ec2"
      },
      "execution_count": 5,
      "outputs": [
        {
          "output_type": "execute_result",
          "data": {
            "text/plain": [
              "                                  title  \\\n",
              "0               Foreign Democrat final.   \n",
              "1   To offer down resource great point.   \n",
              "2          Himself church myself carry.   \n",
              "3                  You unit its should.   \n",
              "4  Billion believe employee summer how.   \n",
              "\n",
              "                                                text        date    source  \\\n",
              "0  more tax development both store agreement lawy...  2023-03-10  NY Times   \n",
              "1  probably guess western behind likely next inve...  2022-05-25  Fox News   \n",
              "2  them identify forward present success risk sev...  2022-09-01       CNN   \n",
              "3  phone which item yard Republican safe where po...  2023-02-07   Reuters   \n",
              "4  wonder myself fact difficult course forget exa...  2023-04-03       CNN   \n",
              "\n",
              "                 author    category label  \n",
              "0          Paula George    Politics  real  \n",
              "1           Joseph Hill    Politics  fake  \n",
              "2        Julia Robinson    Business  fake  \n",
              "3  Mr. David Foster DDS     Science  fake  \n",
              "4         Austin Walker  Technology  fake  "
            ],
            "text/html": [
              "\n",
              "  <div id=\"df-afa85679-26a5-4b9f-beec-3c1d73330f28\" class=\"colab-df-container\">\n",
              "    <div>\n",
              "<style scoped>\n",
              "    .dataframe tbody tr th:only-of-type {\n",
              "        vertical-align: middle;\n",
              "    }\n",
              "\n",
              "    .dataframe tbody tr th {\n",
              "        vertical-align: top;\n",
              "    }\n",
              "\n",
              "    .dataframe thead th {\n",
              "        text-align: right;\n",
              "    }\n",
              "</style>\n",
              "<table border=\"1\" class=\"dataframe\">\n",
              "  <thead>\n",
              "    <tr style=\"text-align: right;\">\n",
              "      <th></th>\n",
              "      <th>title</th>\n",
              "      <th>text</th>\n",
              "      <th>date</th>\n",
              "      <th>source</th>\n",
              "      <th>author</th>\n",
              "      <th>category</th>\n",
              "      <th>label</th>\n",
              "    </tr>\n",
              "  </thead>\n",
              "  <tbody>\n",
              "    <tr>\n",
              "      <th>0</th>\n",
              "      <td>Foreign Democrat final.</td>\n",
              "      <td>more tax development both store agreement lawy...</td>\n",
              "      <td>2023-03-10</td>\n",
              "      <td>NY Times</td>\n",
              "      <td>Paula George</td>\n",
              "      <td>Politics</td>\n",
              "      <td>real</td>\n",
              "    </tr>\n",
              "    <tr>\n",
              "      <th>1</th>\n",
              "      <td>To offer down resource great point.</td>\n",
              "      <td>probably guess western behind likely next inve...</td>\n",
              "      <td>2022-05-25</td>\n",
              "      <td>Fox News</td>\n",
              "      <td>Joseph Hill</td>\n",
              "      <td>Politics</td>\n",
              "      <td>fake</td>\n",
              "    </tr>\n",
              "    <tr>\n",
              "      <th>2</th>\n",
              "      <td>Himself church myself carry.</td>\n",
              "      <td>them identify forward present success risk sev...</td>\n",
              "      <td>2022-09-01</td>\n",
              "      <td>CNN</td>\n",
              "      <td>Julia Robinson</td>\n",
              "      <td>Business</td>\n",
              "      <td>fake</td>\n",
              "    </tr>\n",
              "    <tr>\n",
              "      <th>3</th>\n",
              "      <td>You unit its should.</td>\n",
              "      <td>phone which item yard Republican safe where po...</td>\n",
              "      <td>2023-02-07</td>\n",
              "      <td>Reuters</td>\n",
              "      <td>Mr. David Foster DDS</td>\n",
              "      <td>Science</td>\n",
              "      <td>fake</td>\n",
              "    </tr>\n",
              "    <tr>\n",
              "      <th>4</th>\n",
              "      <td>Billion believe employee summer how.</td>\n",
              "      <td>wonder myself fact difficult course forget exa...</td>\n",
              "      <td>2023-04-03</td>\n",
              "      <td>CNN</td>\n",
              "      <td>Austin Walker</td>\n",
              "      <td>Technology</td>\n",
              "      <td>fake</td>\n",
              "    </tr>\n",
              "  </tbody>\n",
              "</table>\n",
              "</div>\n",
              "    <div class=\"colab-df-buttons\">\n",
              "\n",
              "  <div class=\"colab-df-container\">\n",
              "    <button class=\"colab-df-convert\" onclick=\"convertToInteractive('df-afa85679-26a5-4b9f-beec-3c1d73330f28')\"\n",
              "            title=\"Convert this dataframe to an interactive table.\"\n",
              "            style=\"display:none;\">\n",
              "\n",
              "  <svg xmlns=\"http://www.w3.org/2000/svg\" height=\"24px\" viewBox=\"0 -960 960 960\">\n",
              "    <path d=\"M120-120v-720h720v720H120Zm60-500h600v-160H180v160Zm220 220h160v-160H400v160Zm0 220h160v-160H400v160ZM180-400h160v-160H180v160Zm440 0h160v-160H620v160ZM180-180h160v-160H180v160Zm440 0h160v-160H620v160Z\"/>\n",
              "  </svg>\n",
              "    </button>\n",
              "\n",
              "  <style>\n",
              "    .colab-df-container {\n",
              "      display:flex;\n",
              "      gap: 12px;\n",
              "    }\n",
              "\n",
              "    .colab-df-convert {\n",
              "      background-color: #E8F0FE;\n",
              "      border: none;\n",
              "      border-radius: 50%;\n",
              "      cursor: pointer;\n",
              "      display: none;\n",
              "      fill: #1967D2;\n",
              "      height: 32px;\n",
              "      padding: 0 0 0 0;\n",
              "      width: 32px;\n",
              "    }\n",
              "\n",
              "    .colab-df-convert:hover {\n",
              "      background-color: #E2EBFA;\n",
              "      box-shadow: 0px 1px 2px rgba(60, 64, 67, 0.3), 0px 1px 3px 1px rgba(60, 64, 67, 0.15);\n",
              "      fill: #174EA6;\n",
              "    }\n",
              "\n",
              "    .colab-df-buttons div {\n",
              "      margin-bottom: 4px;\n",
              "    }\n",
              "\n",
              "    [theme=dark] .colab-df-convert {\n",
              "      background-color: #3B4455;\n",
              "      fill: #D2E3FC;\n",
              "    }\n",
              "\n",
              "    [theme=dark] .colab-df-convert:hover {\n",
              "      background-color: #434B5C;\n",
              "      box-shadow: 0px 1px 3px 1px rgba(0, 0, 0, 0.15);\n",
              "      filter: drop-shadow(0px 1px 2px rgba(0, 0, 0, 0.3));\n",
              "      fill: #FFFFFF;\n",
              "    }\n",
              "  </style>\n",
              "\n",
              "    <script>\n",
              "      const buttonEl =\n",
              "        document.querySelector('#df-afa85679-26a5-4b9f-beec-3c1d73330f28 button.colab-df-convert');\n",
              "      buttonEl.style.display =\n",
              "        google.colab.kernel.accessAllowed ? 'block' : 'none';\n",
              "\n",
              "      async function convertToInteractive(key) {\n",
              "        const element = document.querySelector('#df-afa85679-26a5-4b9f-beec-3c1d73330f28');\n",
              "        const dataTable =\n",
              "          await google.colab.kernel.invokeFunction('convertToInteractive',\n",
              "                                                    [key], {});\n",
              "        if (!dataTable) return;\n",
              "\n",
              "        const docLinkHtml = 'Like what you see? Visit the ' +\n",
              "          '<a target=\"_blank\" href=https://colab.research.google.com/notebooks/data_table.ipynb>data table notebook</a>'\n",
              "          + ' to learn more about interactive tables.';\n",
              "        element.innerHTML = '';\n",
              "        dataTable['output_type'] = 'display_data';\n",
              "        await google.colab.output.renderOutput(dataTable, element);\n",
              "        const docLink = document.createElement('div');\n",
              "        docLink.innerHTML = docLinkHtml;\n",
              "        element.appendChild(docLink);\n",
              "      }\n",
              "    </script>\n",
              "  </div>\n",
              "\n",
              "\n",
              "    <div id=\"df-f00055c3-07eb-4c6c-b86a-2e833eaf9b2f\">\n",
              "      <button class=\"colab-df-quickchart\" onclick=\"quickchart('df-f00055c3-07eb-4c6c-b86a-2e833eaf9b2f')\"\n",
              "                title=\"Suggest charts\"\n",
              "                style=\"display:none;\">\n",
              "\n",
              "<svg xmlns=\"http://www.w3.org/2000/svg\" height=\"24px\"viewBox=\"0 0 24 24\"\n",
              "     width=\"24px\">\n",
              "    <g>\n",
              "        <path d=\"M19 3H5c-1.1 0-2 .9-2 2v14c0 1.1.9 2 2 2h14c1.1 0 2-.9 2-2V5c0-1.1-.9-2-2-2zM9 17H7v-7h2v7zm4 0h-2V7h2v10zm4 0h-2v-4h2v4z\"/>\n",
              "    </g>\n",
              "</svg>\n",
              "      </button>\n",
              "\n",
              "<style>\n",
              "  .colab-df-quickchart {\n",
              "      --bg-color: #E8F0FE;\n",
              "      --fill-color: #1967D2;\n",
              "      --hover-bg-color: #E2EBFA;\n",
              "      --hover-fill-color: #174EA6;\n",
              "      --disabled-fill-color: #AAA;\n",
              "      --disabled-bg-color: #DDD;\n",
              "  }\n",
              "\n",
              "  [theme=dark] .colab-df-quickchart {\n",
              "      --bg-color: #3B4455;\n",
              "      --fill-color: #D2E3FC;\n",
              "      --hover-bg-color: #434B5C;\n",
              "      --hover-fill-color: #FFFFFF;\n",
              "      --disabled-bg-color: #3B4455;\n",
              "      --disabled-fill-color: #666;\n",
              "  }\n",
              "\n",
              "  .colab-df-quickchart {\n",
              "    background-color: var(--bg-color);\n",
              "    border: none;\n",
              "    border-radius: 50%;\n",
              "    cursor: pointer;\n",
              "    display: none;\n",
              "    fill: var(--fill-color);\n",
              "    height: 32px;\n",
              "    padding: 0;\n",
              "    width: 32px;\n",
              "  }\n",
              "\n",
              "  .colab-df-quickchart:hover {\n",
              "    background-color: var(--hover-bg-color);\n",
              "    box-shadow: 0 1px 2px rgba(60, 64, 67, 0.3), 0 1px 3px 1px rgba(60, 64, 67, 0.15);\n",
              "    fill: var(--button-hover-fill-color);\n",
              "  }\n",
              "\n",
              "  .colab-df-quickchart-complete:disabled,\n",
              "  .colab-df-quickchart-complete:disabled:hover {\n",
              "    background-color: var(--disabled-bg-color);\n",
              "    fill: var(--disabled-fill-color);\n",
              "    box-shadow: none;\n",
              "  }\n",
              "\n",
              "  .colab-df-spinner {\n",
              "    border: 2px solid var(--fill-color);\n",
              "    border-color: transparent;\n",
              "    border-bottom-color: var(--fill-color);\n",
              "    animation:\n",
              "      spin 1s steps(1) infinite;\n",
              "  }\n",
              "\n",
              "  @keyframes spin {\n",
              "    0% {\n",
              "      border-color: transparent;\n",
              "      border-bottom-color: var(--fill-color);\n",
              "      border-left-color: var(--fill-color);\n",
              "    }\n",
              "    20% {\n",
              "      border-color: transparent;\n",
              "      border-left-color: var(--fill-color);\n",
              "      border-top-color: var(--fill-color);\n",
              "    }\n",
              "    30% {\n",
              "      border-color: transparent;\n",
              "      border-left-color: var(--fill-color);\n",
              "      border-top-color: var(--fill-color);\n",
              "      border-right-color: var(--fill-color);\n",
              "    }\n",
              "    40% {\n",
              "      border-color: transparent;\n",
              "      border-right-color: var(--fill-color);\n",
              "      border-top-color: var(--fill-color);\n",
              "    }\n",
              "    60% {\n",
              "      border-color: transparent;\n",
              "      border-right-color: var(--fill-color);\n",
              "    }\n",
              "    80% {\n",
              "      border-color: transparent;\n",
              "      border-right-color: var(--fill-color);\n",
              "      border-bottom-color: var(--fill-color);\n",
              "    }\n",
              "    90% {\n",
              "      border-color: transparent;\n",
              "      border-bottom-color: var(--fill-color);\n",
              "    }\n",
              "  }\n",
              "</style>\n",
              "\n",
              "      <script>\n",
              "        async function quickchart(key) {\n",
              "          const quickchartButtonEl =\n",
              "            document.querySelector('#' + key + ' button');\n",
              "          quickchartButtonEl.disabled = true;  // To prevent multiple clicks.\n",
              "          quickchartButtonEl.classList.add('colab-df-spinner');\n",
              "          try {\n",
              "            const charts = await google.colab.kernel.invokeFunction(\n",
              "                'suggestCharts', [key], {});\n",
              "          } catch (error) {\n",
              "            console.error('Error during call to suggestCharts:', error);\n",
              "          }\n",
              "          quickchartButtonEl.classList.remove('colab-df-spinner');\n",
              "          quickchartButtonEl.classList.add('colab-df-quickchart-complete');\n",
              "        }\n",
              "        (() => {\n",
              "          let quickchartButtonEl =\n",
              "            document.querySelector('#df-f00055c3-07eb-4c6c-b86a-2e833eaf9b2f button');\n",
              "          quickchartButtonEl.style.display =\n",
              "            google.colab.kernel.accessAllowed ? 'block' : 'none';\n",
              "        })();\n",
              "      </script>\n",
              "    </div>\n",
              "\n",
              "    </div>\n",
              "  </div>\n"
            ],
            "application/vnd.google.colaboratory.intrinsic+json": {
              "type": "dataframe",
              "variable_name": "df",
              "summary": "{\n  \"name\": \"df\",\n  \"rows\": 20000,\n  \"fields\": [\n    {\n      \"column\": \"title\",\n      \"properties\": {\n        \"dtype\": \"string\",\n        \"num_unique_values\": 20000,\n        \"samples\": [\n          \"Society image vote these realize prevent can.\",\n          \"Red offer dream again specific case.\",\n          \"Item nearly develop green.\"\n        ],\n        \"semantic_type\": \"\",\n        \"description\": \"\"\n      }\n    },\n    {\n      \"column\": \"text\",\n      \"properties\": {\n        \"dtype\": \"string\",\n        \"num_unique_values\": 20000,\n        \"samples\": [\n          \"better fall appear measure few prepare billion increase happy sit hot sure will since option a whose suddenly meet trade describe score people agreement speech professional answer red receive process industry imagine attorney reality her skin feeling treatment story final chance simply director threat else arm today nation start painting fire than step response song visit end staff we culture join bag help risk identify fill important weight class long let maybe good floor final address Mrs response style art certain something itself way forget partner poor good themselves forget indicate page door part explain growth opportunity century forward recognize five suffer commercial option once reflect assume site bring something age join between method south board east audience perform today support town as plan accept believe impact people also east usually fire can every enough arrive civil exist PM song might service financial final actually spring blood daughter performance wall within face look behind ask industry create century American evening research experience teach size specific sit certainly chance half company shake major film evidence financial ahead second church idea Republican put still within program carry smile someone as line strong fight drop toward sing difficult either hundred scene enter probably mouth after beat system decade learn music toward walk Mrs number peace available require general whom start south management network husband view many player art even determine memory west set rich although despite huge between probably red leader reflect medical vote government week heavy grow region never accept shoulder position pick beat film understand between very all inside image true decide evening\",\n          \"such east party truth place take tough stuff behind small method continue born eye happen billion magazine fast be join turn out someone serious character situation ahead plant over what out car note together in stage money treatment investment themselves determine nearly hotel determine court himself material family house store down anything lose second believe Mr prevent one anyone own next born process important use defense traditional care community enough because mind down news rest able executive within minute cup too participant suddenly when traditional reflect police act challenge work upon address cup several decide necessary likely mind purpose factor view which truth lawyer drop left theory fact how section middle picture red effort economic recognize present character point know human technology she court game edge push song everything news my them get painting audience everyone why share serious by necessary phone now green ten risk generation where TV member program whether very law career past option example smile kitchen traditional western behavior deep benefit organization near likely state structure population thought machine maybe same senior win wish per significant level lead evening store room for hour star night life subject natural style national day toward sense support energy long PM though group open tend if continue growth customer body reality cut writer enter four get south night player expect grow already owner weight different single rather condition player how pressure smile perhaps instead vote every various church degree gun part real but fast discover national dark various yet day it politics would court physical eight seat that teacher total yes open thought dog event he attack hour need accept position notice personal two impact open structure little second look less street easy brother between right billion look easy like agreement\",\n          \"here she wind budget impact who painting role when occur life enjoy same owner you manager training history high wall change center part project start discussion compare media allow interest ago far executive hand newspaper at send course they go game face truth wonder agreement one west history heavy open end use market reveal amount get degree customer form school necessary ready maintain actually song chair class hold pass make stage almost partner provide party material school hair local parent record later dinner start under realize available newspaper although probably now message husband account perhaps run military voice it have article foot action sell large his commercial eat spend example agree eye action middle on truth power report art room station edge argue work knowledge modern set young share either large whom community seem organization set production model realize when force prepare total total building manager city option standard his approach ball every house allow you spring lay bar study voice garden carry may discussion base him country future ten show culture hundred cup grow important let rich goal trip involve series success back future large surface avoid about enter beyond never catch necessary baby more hear dinner member toward treatment natural role forget image fight again low like city example time many model relationship help more option someone music parent audience put street present seek talk remember arm something loss all method build effort draw bit benefit let build on image eight stuff imagine he yeah none six hold section even employee compare suddenly likely health month still situation form middle attention arrive notice beyond son find floor high feel realize interest shake wind according young sometimes figure important wonder who ok organization professor course every certainly open everybody fly Congress worry floor before process artist\"\n        ],\n        \"semantic_type\": \"\",\n        \"description\": \"\"\n      }\n    },\n    {\n      \"column\": \"date\",\n      \"properties\": {\n        \"dtype\": \"object\",\n        \"num_unique_values\": 1096,\n        \"samples\": [\n          \"2023-04-21\",\n          \"2024-01-07\",\n          \"2024-01-11\"\n        ],\n        \"semantic_type\": \"\",\n        \"description\": \"\"\n      }\n    },\n    {\n      \"column\": \"source\",\n      \"properties\": {\n        \"dtype\": \"category\",\n        \"num_unique_values\": 8,\n        \"samples\": [\n          \"Fox News\",\n          \"Global Times\",\n          \"NY Times\"\n        ],\n        \"semantic_type\": \"\",\n        \"description\": \"\"\n      }\n    },\n    {\n      \"column\": \"author\",\n      \"properties\": {\n        \"dtype\": \"string\",\n        \"num_unique_values\": 17051,\n        \"samples\": [\n          \"James Harding\",\n          \"Breanna Deleon\",\n          \"Mr. Matthew Conway MD\"\n        ],\n        \"semantic_type\": \"\",\n        \"description\": \"\"\n      }\n    },\n    {\n      \"column\": \"category\",\n      \"properties\": {\n        \"dtype\": \"category\",\n        \"num_unique_values\": 7,\n        \"samples\": [\n          \"Politics\",\n          \"Business\",\n          \"Sports\"\n        ],\n        \"semantic_type\": \"\",\n        \"description\": \"\"\n      }\n    },\n    {\n      \"column\": \"label\",\n      \"properties\": {\n        \"dtype\": \"category\",\n        \"num_unique_values\": 2,\n        \"samples\": [\n          \"fake\",\n          \"real\"\n        ],\n        \"semantic_type\": \"\",\n        \"description\": \"\"\n      }\n    }\n  ]\n}"
            }
          },
          "metadata": {},
          "execution_count": 5
        }
      ]
    },
    {
      "cell_type": "markdown",
      "source": [
        "As the correlation of source and label are too low. I drop the ***source*** from dataset and also drop the ***date*** as it cannot be helpful for determine the target"
      ],
      "metadata": {
        "id": "QTx2OvbP5mjJ"
      }
    },
    {
      "cell_type": "code",
      "source": [
        "df.drop(['source','date'],axis = 1,inplace = True)\n"
      ],
      "metadata": {
        "id": "NhWXUZdPa2aO"
      },
      "execution_count": 6,
      "outputs": []
    },
    {
      "cell_type": "code",
      "source": [
        "df['category'].unique()"
      ],
      "metadata": {
        "colab": {
          "base_uri": "https://localhost:8080/"
        },
        "id": "atErWH1wjpfe",
        "outputId": "990e571b-ad35-4ee6-f961-2aefa320d122"
      },
      "execution_count": 7,
      "outputs": [
        {
          "output_type": "execute_result",
          "data": {
            "text/plain": [
              "array(['Politics', 'Business', 'Science', 'Technology', 'Health',\n",
              "       'Sports', 'Entertainment'], dtype=object)"
            ]
          },
          "metadata": {},
          "execution_count": 7
        }
      ]
    },
    {
      "cell_type": "code",
      "source": [
        "\n",
        "# Filter the dataframe to only include rows where the 'label' column is 'real'\n",
        "real_news_df = df[df['label'] == 'real']\n",
        "\n",
        "# Count the occurrences of each category in the filtered dataframe\n",
        "category_counts = real_news_df['category'].value_counts()\n",
        "\n",
        "# Print the category counts\n",
        "category_counts"
      ],
      "metadata": {
        "colab": {
          "base_uri": "https://localhost:8080/",
          "height": 335
        },
        "id": "pOMHIJXCkGGO",
        "outputId": "fa5c0c70-3702-4f58-9f9a-81b0b59cde01"
      },
      "execution_count": 8,
      "outputs": [
        {
          "output_type": "execute_result",
          "data": {
            "text/plain": [
              "category\n",
              "Technology       1458\n",
              "Health           1440\n",
              "Entertainment    1429\n",
              "Sports           1423\n",
              "Science          1413\n",
              "Politics         1403\n",
              "Business         1378\n",
              "Name: count, dtype: int64"
            ],
            "text/html": [
              "<div>\n",
              "<style scoped>\n",
              "    .dataframe tbody tr th:only-of-type {\n",
              "        vertical-align: middle;\n",
              "    }\n",
              "\n",
              "    .dataframe tbody tr th {\n",
              "        vertical-align: top;\n",
              "    }\n",
              "\n",
              "    .dataframe thead th {\n",
              "        text-align: right;\n",
              "    }\n",
              "</style>\n",
              "<table border=\"1\" class=\"dataframe\">\n",
              "  <thead>\n",
              "    <tr style=\"text-align: right;\">\n",
              "      <th></th>\n",
              "      <th>count</th>\n",
              "    </tr>\n",
              "    <tr>\n",
              "      <th>category</th>\n",
              "      <th></th>\n",
              "    </tr>\n",
              "  </thead>\n",
              "  <tbody>\n",
              "    <tr>\n",
              "      <th>Technology</th>\n",
              "      <td>1458</td>\n",
              "    </tr>\n",
              "    <tr>\n",
              "      <th>Health</th>\n",
              "      <td>1440</td>\n",
              "    </tr>\n",
              "    <tr>\n",
              "      <th>Entertainment</th>\n",
              "      <td>1429</td>\n",
              "    </tr>\n",
              "    <tr>\n",
              "      <th>Sports</th>\n",
              "      <td>1423</td>\n",
              "    </tr>\n",
              "    <tr>\n",
              "      <th>Science</th>\n",
              "      <td>1413</td>\n",
              "    </tr>\n",
              "    <tr>\n",
              "      <th>Politics</th>\n",
              "      <td>1403</td>\n",
              "    </tr>\n",
              "    <tr>\n",
              "      <th>Business</th>\n",
              "      <td>1378</td>\n",
              "    </tr>\n",
              "  </tbody>\n",
              "</table>\n",
              "</div><br><label><b>dtype:</b> int64</label>"
            ]
          },
          "metadata": {},
          "execution_count": 8
        }
      ]
    },
    {
      "cell_type": "code",
      "source": [
        "fake=df[df['label']=='fake']\n",
        "print(fake.shape)\n",
        "fake['category'].value_counts()\n"
      ],
      "metadata": {
        "colab": {
          "base_uri": "https://localhost:8080/",
          "height": 352
        },
        "id": "_iZbdyzflnZP",
        "outputId": "d75baab3-57bd-42ec-f7f1-553c176d971e"
      },
      "execution_count": 9,
      "outputs": [
        {
          "output_type": "stream",
          "name": "stdout",
          "text": [
            "(10056, 5)\n"
          ]
        },
        {
          "output_type": "execute_result",
          "data": {
            "text/plain": [
              "category\n",
              "Health           1482\n",
              "Business         1471\n",
              "Entertainment    1460\n",
              "Sports           1444\n",
              "Technology       1424\n",
              "Politics         1399\n",
              "Science          1376\n",
              "Name: count, dtype: int64"
            ],
            "text/html": [
              "<div>\n",
              "<style scoped>\n",
              "    .dataframe tbody tr th:only-of-type {\n",
              "        vertical-align: middle;\n",
              "    }\n",
              "\n",
              "    .dataframe tbody tr th {\n",
              "        vertical-align: top;\n",
              "    }\n",
              "\n",
              "    .dataframe thead th {\n",
              "        text-align: right;\n",
              "    }\n",
              "</style>\n",
              "<table border=\"1\" class=\"dataframe\">\n",
              "  <thead>\n",
              "    <tr style=\"text-align: right;\">\n",
              "      <th></th>\n",
              "      <th>count</th>\n",
              "    </tr>\n",
              "    <tr>\n",
              "      <th>category</th>\n",
              "      <th></th>\n",
              "    </tr>\n",
              "  </thead>\n",
              "  <tbody>\n",
              "    <tr>\n",
              "      <th>Health</th>\n",
              "      <td>1482</td>\n",
              "    </tr>\n",
              "    <tr>\n",
              "      <th>Business</th>\n",
              "      <td>1471</td>\n",
              "    </tr>\n",
              "    <tr>\n",
              "      <th>Entertainment</th>\n",
              "      <td>1460</td>\n",
              "    </tr>\n",
              "    <tr>\n",
              "      <th>Sports</th>\n",
              "      <td>1444</td>\n",
              "    </tr>\n",
              "    <tr>\n",
              "      <th>Technology</th>\n",
              "      <td>1424</td>\n",
              "    </tr>\n",
              "    <tr>\n",
              "      <th>Politics</th>\n",
              "      <td>1399</td>\n",
              "    </tr>\n",
              "    <tr>\n",
              "      <th>Science</th>\n",
              "      <td>1376</td>\n",
              "    </tr>\n",
              "  </tbody>\n",
              "</table>\n",
              "</div><br><label><b>dtype:</b> int64</label>"
            ]
          },
          "metadata": {},
          "execution_count": 9
        }
      ]
    },
    {
      "cell_type": "markdown",
      "source": [
        "the ***catagorical*** feature has almost equal number of real and fake label for every value. So this feature is also unuseful for detection"
      ],
      "metadata": {
        "id": "0C1L0z97mSHW"
      }
    },
    {
      "cell_type": "code",
      "source": [
        "df.drop('category',axis = 1,inplace = True)"
      ],
      "metadata": {
        "id": "U_H3C6qmmwY_"
      },
      "execution_count": 10,
      "outputs": []
    },
    {
      "cell_type": "code",
      "source": [
        "df.head()"
      ],
      "metadata": {
        "colab": {
          "base_uri": "https://localhost:8080/",
          "height": 206
        },
        "id": "hYHSHLsxmzgH",
        "outputId": "4c6b29f1-947b-4eac-8cc5-1f4fc1bdc18f"
      },
      "execution_count": 11,
      "outputs": [
        {
          "output_type": "execute_result",
          "data": {
            "text/plain": [
              "                                  title  \\\n",
              "0               Foreign Democrat final.   \n",
              "1   To offer down resource great point.   \n",
              "2          Himself church myself carry.   \n",
              "3                  You unit its should.   \n",
              "4  Billion believe employee summer how.   \n",
              "\n",
              "                                                text                author  \\\n",
              "0  more tax development both store agreement lawy...          Paula George   \n",
              "1  probably guess western behind likely next inve...           Joseph Hill   \n",
              "2  them identify forward present success risk sev...        Julia Robinson   \n",
              "3  phone which item yard Republican safe where po...  Mr. David Foster DDS   \n",
              "4  wonder myself fact difficult course forget exa...         Austin Walker   \n",
              "\n",
              "  label  \n",
              "0  real  \n",
              "1  fake  \n",
              "2  fake  \n",
              "3  fake  \n",
              "4  fake  "
            ],
            "text/html": [
              "\n",
              "  <div id=\"df-6b42de9c-871f-4663-8ca6-206a2b58e6e0\" class=\"colab-df-container\">\n",
              "    <div>\n",
              "<style scoped>\n",
              "    .dataframe tbody tr th:only-of-type {\n",
              "        vertical-align: middle;\n",
              "    }\n",
              "\n",
              "    .dataframe tbody tr th {\n",
              "        vertical-align: top;\n",
              "    }\n",
              "\n",
              "    .dataframe thead th {\n",
              "        text-align: right;\n",
              "    }\n",
              "</style>\n",
              "<table border=\"1\" class=\"dataframe\">\n",
              "  <thead>\n",
              "    <tr style=\"text-align: right;\">\n",
              "      <th></th>\n",
              "      <th>title</th>\n",
              "      <th>text</th>\n",
              "      <th>author</th>\n",
              "      <th>label</th>\n",
              "    </tr>\n",
              "  </thead>\n",
              "  <tbody>\n",
              "    <tr>\n",
              "      <th>0</th>\n",
              "      <td>Foreign Democrat final.</td>\n",
              "      <td>more tax development both store agreement lawy...</td>\n",
              "      <td>Paula George</td>\n",
              "      <td>real</td>\n",
              "    </tr>\n",
              "    <tr>\n",
              "      <th>1</th>\n",
              "      <td>To offer down resource great point.</td>\n",
              "      <td>probably guess western behind likely next inve...</td>\n",
              "      <td>Joseph Hill</td>\n",
              "      <td>fake</td>\n",
              "    </tr>\n",
              "    <tr>\n",
              "      <th>2</th>\n",
              "      <td>Himself church myself carry.</td>\n",
              "      <td>them identify forward present success risk sev...</td>\n",
              "      <td>Julia Robinson</td>\n",
              "      <td>fake</td>\n",
              "    </tr>\n",
              "    <tr>\n",
              "      <th>3</th>\n",
              "      <td>You unit its should.</td>\n",
              "      <td>phone which item yard Republican safe where po...</td>\n",
              "      <td>Mr. David Foster DDS</td>\n",
              "      <td>fake</td>\n",
              "    </tr>\n",
              "    <tr>\n",
              "      <th>4</th>\n",
              "      <td>Billion believe employee summer how.</td>\n",
              "      <td>wonder myself fact difficult course forget exa...</td>\n",
              "      <td>Austin Walker</td>\n",
              "      <td>fake</td>\n",
              "    </tr>\n",
              "  </tbody>\n",
              "</table>\n",
              "</div>\n",
              "    <div class=\"colab-df-buttons\">\n",
              "\n",
              "  <div class=\"colab-df-container\">\n",
              "    <button class=\"colab-df-convert\" onclick=\"convertToInteractive('df-6b42de9c-871f-4663-8ca6-206a2b58e6e0')\"\n",
              "            title=\"Convert this dataframe to an interactive table.\"\n",
              "            style=\"display:none;\">\n",
              "\n",
              "  <svg xmlns=\"http://www.w3.org/2000/svg\" height=\"24px\" viewBox=\"0 -960 960 960\">\n",
              "    <path d=\"M120-120v-720h720v720H120Zm60-500h600v-160H180v160Zm220 220h160v-160H400v160Zm0 220h160v-160H400v160ZM180-400h160v-160H180v160Zm440 0h160v-160H620v160ZM180-180h160v-160H180v160Zm440 0h160v-160H620v160Z\"/>\n",
              "  </svg>\n",
              "    </button>\n",
              "\n",
              "  <style>\n",
              "    .colab-df-container {\n",
              "      display:flex;\n",
              "      gap: 12px;\n",
              "    }\n",
              "\n",
              "    .colab-df-convert {\n",
              "      background-color: #E8F0FE;\n",
              "      border: none;\n",
              "      border-radius: 50%;\n",
              "      cursor: pointer;\n",
              "      display: none;\n",
              "      fill: #1967D2;\n",
              "      height: 32px;\n",
              "      padding: 0 0 0 0;\n",
              "      width: 32px;\n",
              "    }\n",
              "\n",
              "    .colab-df-convert:hover {\n",
              "      background-color: #E2EBFA;\n",
              "      box-shadow: 0px 1px 2px rgba(60, 64, 67, 0.3), 0px 1px 3px 1px rgba(60, 64, 67, 0.15);\n",
              "      fill: #174EA6;\n",
              "    }\n",
              "\n",
              "    .colab-df-buttons div {\n",
              "      margin-bottom: 4px;\n",
              "    }\n",
              "\n",
              "    [theme=dark] .colab-df-convert {\n",
              "      background-color: #3B4455;\n",
              "      fill: #D2E3FC;\n",
              "    }\n",
              "\n",
              "    [theme=dark] .colab-df-convert:hover {\n",
              "      background-color: #434B5C;\n",
              "      box-shadow: 0px 1px 3px 1px rgba(0, 0, 0, 0.15);\n",
              "      filter: drop-shadow(0px 1px 2px rgba(0, 0, 0, 0.3));\n",
              "      fill: #FFFFFF;\n",
              "    }\n",
              "  </style>\n",
              "\n",
              "    <script>\n",
              "      const buttonEl =\n",
              "        document.querySelector('#df-6b42de9c-871f-4663-8ca6-206a2b58e6e0 button.colab-df-convert');\n",
              "      buttonEl.style.display =\n",
              "        google.colab.kernel.accessAllowed ? 'block' : 'none';\n",
              "\n",
              "      async function convertToInteractive(key) {\n",
              "        const element = document.querySelector('#df-6b42de9c-871f-4663-8ca6-206a2b58e6e0');\n",
              "        const dataTable =\n",
              "          await google.colab.kernel.invokeFunction('convertToInteractive',\n",
              "                                                    [key], {});\n",
              "        if (!dataTable) return;\n",
              "\n",
              "        const docLinkHtml = 'Like what you see? Visit the ' +\n",
              "          '<a target=\"_blank\" href=https://colab.research.google.com/notebooks/data_table.ipynb>data table notebook</a>'\n",
              "          + ' to learn more about interactive tables.';\n",
              "        element.innerHTML = '';\n",
              "        dataTable['output_type'] = 'display_data';\n",
              "        await google.colab.output.renderOutput(dataTable, element);\n",
              "        const docLink = document.createElement('div');\n",
              "        docLink.innerHTML = docLinkHtml;\n",
              "        element.appendChild(docLink);\n",
              "      }\n",
              "    </script>\n",
              "  </div>\n",
              "\n",
              "\n",
              "    <div id=\"df-ad19f4bc-6de5-47cf-b70d-75aa9193fc06\">\n",
              "      <button class=\"colab-df-quickchart\" onclick=\"quickchart('df-ad19f4bc-6de5-47cf-b70d-75aa9193fc06')\"\n",
              "                title=\"Suggest charts\"\n",
              "                style=\"display:none;\">\n",
              "\n",
              "<svg xmlns=\"http://www.w3.org/2000/svg\" height=\"24px\"viewBox=\"0 0 24 24\"\n",
              "     width=\"24px\">\n",
              "    <g>\n",
              "        <path d=\"M19 3H5c-1.1 0-2 .9-2 2v14c0 1.1.9 2 2 2h14c1.1 0 2-.9 2-2V5c0-1.1-.9-2-2-2zM9 17H7v-7h2v7zm4 0h-2V7h2v10zm4 0h-2v-4h2v4z\"/>\n",
              "    </g>\n",
              "</svg>\n",
              "      </button>\n",
              "\n",
              "<style>\n",
              "  .colab-df-quickchart {\n",
              "      --bg-color: #E8F0FE;\n",
              "      --fill-color: #1967D2;\n",
              "      --hover-bg-color: #E2EBFA;\n",
              "      --hover-fill-color: #174EA6;\n",
              "      --disabled-fill-color: #AAA;\n",
              "      --disabled-bg-color: #DDD;\n",
              "  }\n",
              "\n",
              "  [theme=dark] .colab-df-quickchart {\n",
              "      --bg-color: #3B4455;\n",
              "      --fill-color: #D2E3FC;\n",
              "      --hover-bg-color: #434B5C;\n",
              "      --hover-fill-color: #FFFFFF;\n",
              "      --disabled-bg-color: #3B4455;\n",
              "      --disabled-fill-color: #666;\n",
              "  }\n",
              "\n",
              "  .colab-df-quickchart {\n",
              "    background-color: var(--bg-color);\n",
              "    border: none;\n",
              "    border-radius: 50%;\n",
              "    cursor: pointer;\n",
              "    display: none;\n",
              "    fill: var(--fill-color);\n",
              "    height: 32px;\n",
              "    padding: 0;\n",
              "    width: 32px;\n",
              "  }\n",
              "\n",
              "  .colab-df-quickchart:hover {\n",
              "    background-color: var(--hover-bg-color);\n",
              "    box-shadow: 0 1px 2px rgba(60, 64, 67, 0.3), 0 1px 3px 1px rgba(60, 64, 67, 0.15);\n",
              "    fill: var(--button-hover-fill-color);\n",
              "  }\n",
              "\n",
              "  .colab-df-quickchart-complete:disabled,\n",
              "  .colab-df-quickchart-complete:disabled:hover {\n",
              "    background-color: var(--disabled-bg-color);\n",
              "    fill: var(--disabled-fill-color);\n",
              "    box-shadow: none;\n",
              "  }\n",
              "\n",
              "  .colab-df-spinner {\n",
              "    border: 2px solid var(--fill-color);\n",
              "    border-color: transparent;\n",
              "    border-bottom-color: var(--fill-color);\n",
              "    animation:\n",
              "      spin 1s steps(1) infinite;\n",
              "  }\n",
              "\n",
              "  @keyframes spin {\n",
              "    0% {\n",
              "      border-color: transparent;\n",
              "      border-bottom-color: var(--fill-color);\n",
              "      border-left-color: var(--fill-color);\n",
              "    }\n",
              "    20% {\n",
              "      border-color: transparent;\n",
              "      border-left-color: var(--fill-color);\n",
              "      border-top-color: var(--fill-color);\n",
              "    }\n",
              "    30% {\n",
              "      border-color: transparent;\n",
              "      border-left-color: var(--fill-color);\n",
              "      border-top-color: var(--fill-color);\n",
              "      border-right-color: var(--fill-color);\n",
              "    }\n",
              "    40% {\n",
              "      border-color: transparent;\n",
              "      border-right-color: var(--fill-color);\n",
              "      border-top-color: var(--fill-color);\n",
              "    }\n",
              "    60% {\n",
              "      border-color: transparent;\n",
              "      border-right-color: var(--fill-color);\n",
              "    }\n",
              "    80% {\n",
              "      border-color: transparent;\n",
              "      border-right-color: var(--fill-color);\n",
              "      border-bottom-color: var(--fill-color);\n",
              "    }\n",
              "    90% {\n",
              "      border-color: transparent;\n",
              "      border-bottom-color: var(--fill-color);\n",
              "    }\n",
              "  }\n",
              "</style>\n",
              "\n",
              "      <script>\n",
              "        async function quickchart(key) {\n",
              "          const quickchartButtonEl =\n",
              "            document.querySelector('#' + key + ' button');\n",
              "          quickchartButtonEl.disabled = true;  // To prevent multiple clicks.\n",
              "          quickchartButtonEl.classList.add('colab-df-spinner');\n",
              "          try {\n",
              "            const charts = await google.colab.kernel.invokeFunction(\n",
              "                'suggestCharts', [key], {});\n",
              "          } catch (error) {\n",
              "            console.error('Error during call to suggestCharts:', error);\n",
              "          }\n",
              "          quickchartButtonEl.classList.remove('colab-df-spinner');\n",
              "          quickchartButtonEl.classList.add('colab-df-quickchart-complete');\n",
              "        }\n",
              "        (() => {\n",
              "          let quickchartButtonEl =\n",
              "            document.querySelector('#df-ad19f4bc-6de5-47cf-b70d-75aa9193fc06 button');\n",
              "          quickchartButtonEl.style.display =\n",
              "            google.colab.kernel.accessAllowed ? 'block' : 'none';\n",
              "        })();\n",
              "      </script>\n",
              "    </div>\n",
              "\n",
              "    </div>\n",
              "  </div>\n"
            ],
            "application/vnd.google.colaboratory.intrinsic+json": {
              "type": "dataframe",
              "variable_name": "df",
              "summary": "{\n  \"name\": \"df\",\n  \"rows\": 20000,\n  \"fields\": [\n    {\n      \"column\": \"title\",\n      \"properties\": {\n        \"dtype\": \"string\",\n        \"num_unique_values\": 20000,\n        \"samples\": [\n          \"Society image vote these realize prevent can.\",\n          \"Red offer dream again specific case.\",\n          \"Item nearly develop green.\"\n        ],\n        \"semantic_type\": \"\",\n        \"description\": \"\"\n      }\n    },\n    {\n      \"column\": \"text\",\n      \"properties\": {\n        \"dtype\": \"string\",\n        \"num_unique_values\": 20000,\n        \"samples\": [\n          \"better fall appear measure few prepare billion increase happy sit hot sure will since option a whose suddenly meet trade describe score people agreement speech professional answer red receive process industry imagine attorney reality her skin feeling treatment story final chance simply director threat else arm today nation start painting fire than step response song visit end staff we culture join bag help risk identify fill important weight class long let maybe good floor final address Mrs response style art certain something itself way forget partner poor good themselves forget indicate page door part explain growth opportunity century forward recognize five suffer commercial option once reflect assume site bring something age join between method south board east audience perform today support town as plan accept believe impact people also east usually fire can every enough arrive civil exist PM song might service financial final actually spring blood daughter performance wall within face look behind ask industry create century American evening research experience teach size specific sit certainly chance half company shake major film evidence financial ahead second church idea Republican put still within program carry smile someone as line strong fight drop toward sing difficult either hundred scene enter probably mouth after beat system decade learn music toward walk Mrs number peace available require general whom start south management network husband view many player art even determine memory west set rich although despite huge between probably red leader reflect medical vote government week heavy grow region never accept shoulder position pick beat film understand between very all inside image true decide evening\",\n          \"such east party truth place take tough stuff behind small method continue born eye happen billion magazine fast be join turn out someone serious character situation ahead plant over what out car note together in stage money treatment investment themselves determine nearly hotel determine court himself material family house store down anything lose second believe Mr prevent one anyone own next born process important use defense traditional care community enough because mind down news rest able executive within minute cup too participant suddenly when traditional reflect police act challenge work upon address cup several decide necessary likely mind purpose factor view which truth lawyer drop left theory fact how section middle picture red effort economic recognize present character point know human technology she court game edge push song everything news my them get painting audience everyone why share serious by necessary phone now green ten risk generation where TV member program whether very law career past option example smile kitchen traditional western behavior deep benefit organization near likely state structure population thought machine maybe same senior win wish per significant level lead evening store room for hour star night life subject natural style national day toward sense support energy long PM though group open tend if continue growth customer body reality cut writer enter four get south night player expect grow already owner weight different single rather condition player how pressure smile perhaps instead vote every various church degree gun part real but fast discover national dark various yet day it politics would court physical eight seat that teacher total yes open thought dog event he attack hour need accept position notice personal two impact open structure little second look less street easy brother between right billion look easy like agreement\",\n          \"here she wind budget impact who painting role when occur life enjoy same owner you manager training history high wall change center part project start discussion compare media allow interest ago far executive hand newspaper at send course they go game face truth wonder agreement one west history heavy open end use market reveal amount get degree customer form school necessary ready maintain actually song chair class hold pass make stage almost partner provide party material school hair local parent record later dinner start under realize available newspaper although probably now message husband account perhaps run military voice it have article foot action sell large his commercial eat spend example agree eye action middle on truth power report art room station edge argue work knowledge modern set young share either large whom community seem organization set production model realize when force prepare total total building manager city option standard his approach ball every house allow you spring lay bar study voice garden carry may discussion base him country future ten show culture hundred cup grow important let rich goal trip involve series success back future large surface avoid about enter beyond never catch necessary baby more hear dinner member toward treatment natural role forget image fight again low like city example time many model relationship help more option someone music parent audience put street present seek talk remember arm something loss all method build effort draw bit benefit let build on image eight stuff imagine he yeah none six hold section even employee compare suddenly likely health month still situation form middle attention arrive notice beyond son find floor high feel realize interest shake wind according young sometimes figure important wonder who ok organization professor course every certainly open everybody fly Congress worry floor before process artist\"\n        ],\n        \"semantic_type\": \"\",\n        \"description\": \"\"\n      }\n    },\n    {\n      \"column\": \"author\",\n      \"properties\": {\n        \"dtype\": \"string\",\n        \"num_unique_values\": 17051,\n        \"samples\": [\n          \"James Harding\",\n          \"Breanna Deleon\",\n          \"Mr. Matthew Conway MD\"\n        ],\n        \"semantic_type\": \"\",\n        \"description\": \"\"\n      }\n    },\n    {\n      \"column\": \"label\",\n      \"properties\": {\n        \"dtype\": \"category\",\n        \"num_unique_values\": 2,\n        \"samples\": [\n          \"fake\",\n          \"real\"\n        ],\n        \"semantic_type\": \"\",\n        \"description\": \"\"\n      }\n    }\n  ]\n}"
            }
          },
          "metadata": {},
          "execution_count": 11
        }
      ]
    },
    {
      "cell_type": "markdown",
      "source": [
        "### Using Logistic Regression"
      ],
      "metadata": {
        "id": "SwxBtGid3QWk"
      }
    },
    {
      "cell_type": "code",
      "source": [
        "df['author'] = df['author'].fillna('')\n",
        "df['title'] = df['title'].fillna('')\n",
        "df['text']=df['text'].fillna('')\n",
        "df['content'] = df['author']+' '+df['title']+' '+df['text']\n",
        "#seperating the data and the labels\n",
        "X = df.drop('label',axis = 1)\n",
        "Y = df['label']\n",
        "\n",
        "\n",
        "\n",
        "\n",
        "\n"
      ],
      "metadata": {
        "id": "bpSpd2ZeyYI1"
      },
      "execution_count": 12,
      "outputs": []
    },
    {
      "cell_type": "markdown",
      "source": [
        "##Stemming\n"
      ],
      "metadata": {
        "id": "FREhAKpS-xh3"
      }
    },
    {
      "cell_type": "code",
      "source": [
        "ps = PorterStemmer()\n",
        "def stemming(content):\n",
        "  review = re.sub('[^a-zA-Z]',' ',content)\n",
        "  review = review.lower()\n",
        "  review = review.split()\n",
        "  review = [ps.stem(word) for word in review if not word in stopwords.words('english')]\n",
        "  review = ' '.join(review)\n",
        "  return review\n"
      ],
      "metadata": {
        "id": "LXzE8ebV-wFH"
      },
      "execution_count": 13,
      "outputs": []
    },
    {
      "cell_type": "code",
      "source": [
        "df['content'] = df['content'].apply(stemming)\n",
        "\n"
      ],
      "metadata": {
        "id": "0-o7ZkKT-2Rg"
      },
      "execution_count": 15,
      "outputs": []
    },
    {
      "cell_type": "code",
      "source": [
        "#seperating the data and the labels\n",
        "X = df['content'].values\n",
        "Y = df['label'].values"
      ],
      "metadata": {
        "id": "nQeVLfAzBNf4"
      },
      "execution_count": 16,
      "outputs": []
    },
    {
      "cell_type": "code",
      "source": [
        "\n",
        "#converting the textual data to numerical data\n",
        "vectorizer = TfidfVectorizer()\n",
        "vectorizer.fit(X)\n",
        "X = vectorizer.transform(X)"
      ],
      "metadata": {
        "id": "VDj_3NOT-5CH"
      },
      "execution_count": 17,
      "outputs": []
    },
    {
      "cell_type": "code",
      "source": [
        "#Splitting the data into training and test data\n",
        "X_train, X_test, Y_train, Y_test = train_test_split(X,Y, test_size = 0.2, stratify = Y, random_state = 2)"
      ],
      "metadata": {
        "id": "00Yh8H4M-7iw"
      },
      "execution_count": 18,
      "outputs": []
    },
    {
      "cell_type": "markdown",
      "source": [
        "### Using SVM model"
      ],
      "metadata": {
        "id": "_ArPYLbm3E7g"
      }
    },
    {
      "cell_type": "code",
      "source": [
        "\n",
        "\n",
        "# Training the model with SVM\n",
        "svm_model = svm.SVC(kernel='linear')\n",
        "svm_model.fit(X_train, Y_train)\n",
        "\n"
      ],
      "metadata": {
        "colab": {
          "base_uri": "https://localhost:8080/"
        },
        "id": "ttUnREF9yVr3",
        "outputId": "ce549818-40a0-4406-fa41-f5f78b32d717"
      },
      "execution_count": 19,
      "outputs": [
        {
          "output_type": "stream",
          "name": "stdout",
          "text": [
            "SVM Test data accuracy: 0.51325\n"
          ]
        }
      ]
    },
    {
      "cell_type": "code",
      "source": [
        "# Evaluating the SVM model with testing data\n",
        "X_test_prediction_svm = svm_model.predict(X_test)\n",
        "test_data_accuracy_svm = accuracy_score(X_test_prediction_svm, Y_test)\n",
        "print(\"SVM Test data accuracy:\", test_data_accuracy_svm)\n"
      ],
      "metadata": {
        "colab": {
          "base_uri": "https://localhost:8080/"
        },
        "id": "FRWRYyKZHkGo",
        "outputId": "6907ba25-8783-41fa-8337-62dd4e857176"
      },
      "execution_count": 20,
      "outputs": [
        {
          "output_type": "stream",
          "name": "stdout",
          "text": [
            "SVM Test data accuracy: 0.51325\n"
          ]
        }
      ]
    },
    {
      "cell_type": "code",
      "source": [
        "#Training the model with Logistic Regression\n",
        "from sklearn.linear_model import LogisticRegression\n",
        "model = LogisticRegression()\n",
        "model.fit(X_train,Y_train)\n",
        "\n",
        "#Evaluating the model with testing data\n",
        "X_test_prediction = model.predict(X_test)\n",
        "test_data_accuracy = accuracy_score(X_test_prediction,Y_test)\n",
        "print(\"Test data accuracy: \", test_data_accuracy)"
      ],
      "metadata": {
        "colab": {
          "base_uri": "https://localhost:8080/"
        },
        "id": "Z9fJlGJy-qQw",
        "outputId": "ab335f8d-03c8-44d2-a3e5-76212194de10"
      },
      "execution_count": 22,
      "outputs": [
        {
          "output_type": "stream",
          "name": "stdout",
          "text": [
            "Test data accuracy:  0.5145\n"
          ]
        }
      ]
    },
    {
      "cell_type": "markdown",
      "source": [
        "Accuracy score using Logistic Regression is :**0.514**\n",
        "\n",
        "\n",
        "Accuracy score using SVM is: **0.51325**"
      ],
      "metadata": {
        "id": "HCraYqPu2iep"
      }
    }
  ]
}