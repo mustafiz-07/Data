{
  "nbformat": 4,
  "nbformat_minor": 0,
  "metadata": {
    "colab": {
      "provenance": [],
      "authorship_tag": "ABX9TyPJV1fN8BvKcCF/m91nuQXc",
      "include_colab_link": true
    },
    "kernelspec": {
      "name": "python3",
      "display_name": "Python 3"
    },
    "language_info": {
      "name": "python"
    }
  },
  "cells": [
    {
      "cell_type": "markdown",
      "metadata": {
        "id": "view-in-github",
        "colab_type": "text"
      },
      "source": [
        "<a href=\"https://colab.research.google.com/github/mustafiz-07/Data/blob/main/Fake_news_detection.ipynb\" target=\"_parent\"><img src=\"https://colab.research.google.com/assets/colab-badge.svg\" alt=\"Open In Colab\"/></a>"
      ]
    },
    {
      "cell_type": "markdown",
      "source": [
        "##Importing dependencies"
      ],
      "metadata": {
        "id": "rGYSZSVVv9Ng"
      }
    },
    {
      "cell_type": "code",
      "source": [
        "import pandas as pd\n",
        "import numpy as np\n",
        "import re\n",
        "import nltk\n",
        "from nltk.corpus import stopwords\n",
        "from nltk.stem.porter import PorterStemmer\n",
        "from sklearn.feature_extraction.text import TfidfVectorizer\n",
        "from sklearn.model_selection import train_test_split\n",
        "from sklearn.linear_model import LogisticRegression\n",
        "from sklearn.metrics import accuracy_score\n",
        "\n",
        "nltk.download('stopwords')"
      ],
      "metadata": {
        "colab": {
          "base_uri": "https://localhost:8080/"
        },
        "id": "bJykZHprvbPI",
        "outputId": "82594ed1-e0c0-4d8c-b00d-f69b259d8a94"
      },
      "execution_count": 17,
      "outputs": [
        {
          "output_type": "stream",
          "name": "stderr",
          "text": [
            "[nltk_data] Downloading package stopwords to /root/nltk_data...\n",
            "[nltk_data]   Package stopwords is already up-to-date!\n"
          ]
        },
        {
          "output_type": "execute_result",
          "data": {
            "text/plain": [
              "True"
            ]
          },
          "metadata": {},
          "execution_count": 17
        }
      ]
    },
    {
      "cell_type": "markdown",
      "source": [
        "##Importing dataset from kagglehub"
      ],
      "metadata": {
        "id": "muECyYrJwMJN"
      }
    },
    {
      "cell_type": "code",
      "execution_count": 18,
      "metadata": {
        "colab": {
          "base_uri": "https://localhost:8080/"
        },
        "id": "5opmFD5O-ck5",
        "outputId": "170969e6-d5b9-48e4-c90e-01075a50b216"
      },
      "outputs": [
        {
          "output_type": "stream",
          "name": "stderr",
          "text": [
            "/tmp/ipython-input-18-1910074427.py:6: DeprecationWarning: load_dataset is deprecated and will be removed in a future version.\n",
            "  df = kagglehub.load_dataset(\n"
          ]
        }
      ],
      "source": [
        "\n",
        "import kagglehub\n",
        "from kagglehub import KaggleDatasetAdapter\n",
        "\n",
        "file_path = \"fake_news_dataset.csv\"\n",
        "\n",
        "df = kagglehub.load_dataset(\n",
        "  KaggleDatasetAdapter.PANDAS,\n",
        "  \"mahdimashayekhi/fake-news-detection-dataset\",\n",
        "  file_path,\n",
        ")\n"
      ]
    },
    {
      "cell_type": "code",
      "source": [
        "print(df.columns)"
      ],
      "metadata": {
        "colab": {
          "base_uri": "https://localhost:8080/"
        },
        "id": "ncHUH1BQUSbQ",
        "outputId": "514ecede-936f-4d70-8b6f-98ec2dbe785e"
      },
      "execution_count": 19,
      "outputs": [
        {
          "output_type": "stream",
          "name": "stdout",
          "text": [
            "Index(['title', 'text', 'date', 'source', 'author', 'category', 'label'], dtype='object')\n"
          ]
        }
      ]
    },
    {
      "cell_type": "markdown",
      "source": [
        "##Data Pre-processing"
      ],
      "metadata": {
        "id": "iYed18mTwogw"
      }
    },
    {
      "cell_type": "code",
      "source": [
        "df.shape"
      ],
      "metadata": {
        "colab": {
          "base_uri": "https://localhost:8080/"
        },
        "id": "R1h9Z1Mhktf3",
        "outputId": "0e98a591-59f5-41d3-cc7c-1bcff245a060"
      },
      "execution_count": 27,
      "outputs": [
        {
          "output_type": "execute_result",
          "data": {
            "text/plain": [
              "(20000, 5)"
            ]
          },
          "metadata": {},
          "execution_count": 27
        }
      ]
    },
    {
      "cell_type": "code",
      "source": [
        "df.head()"
      ],
      "metadata": {
        "colab": {
          "base_uri": "https://localhost:8080/",
          "height": 206
        },
        "id": "d7PIKrUGwxua",
        "outputId": "8a50de80-d1b4-4efd-eea0-0dd45969be7f"
      },
      "execution_count": 20,
      "outputs": [
        {
          "output_type": "execute_result",
          "data": {
            "text/plain": [
              "                                  title  \\\n",
              "0               Foreign Democrat final.   \n",
              "1   To offer down resource great point.   \n",
              "2          Himself church myself carry.   \n",
              "3                  You unit its should.   \n",
              "4  Billion believe employee summer how.   \n",
              "\n",
              "                                                text        date    source  \\\n",
              "0  more tax development both store agreement lawy...  2023-03-10  NY Times   \n",
              "1  probably guess western behind likely next inve...  2022-05-25  Fox News   \n",
              "2  them identify forward present success risk sev...  2022-09-01       CNN   \n",
              "3  phone which item yard Republican safe where po...  2023-02-07   Reuters   \n",
              "4  wonder myself fact difficult course forget exa...  2023-04-03       CNN   \n",
              "\n",
              "                 author    category label  \n",
              "0          Paula George    Politics  real  \n",
              "1           Joseph Hill    Politics  fake  \n",
              "2        Julia Robinson    Business  fake  \n",
              "3  Mr. David Foster DDS     Science  fake  \n",
              "4         Austin Walker  Technology  fake  "
            ],
            "text/html": [
              "\n",
              "  <div id=\"df-e8291e97-4bc8-49a6-831a-a59d733220c2\" class=\"colab-df-container\">\n",
              "    <div>\n",
              "<style scoped>\n",
              "    .dataframe tbody tr th:only-of-type {\n",
              "        vertical-align: middle;\n",
              "    }\n",
              "\n",
              "    .dataframe tbody tr th {\n",
              "        vertical-align: top;\n",
              "    }\n",
              "\n",
              "    .dataframe thead th {\n",
              "        text-align: right;\n",
              "    }\n",
              "</style>\n",
              "<table border=\"1\" class=\"dataframe\">\n",
              "  <thead>\n",
              "    <tr style=\"text-align: right;\">\n",
              "      <th></th>\n",
              "      <th>title</th>\n",
              "      <th>text</th>\n",
              "      <th>date</th>\n",
              "      <th>source</th>\n",
              "      <th>author</th>\n",
              "      <th>category</th>\n",
              "      <th>label</th>\n",
              "    </tr>\n",
              "  </thead>\n",
              "  <tbody>\n",
              "    <tr>\n",
              "      <th>0</th>\n",
              "      <td>Foreign Democrat final.</td>\n",
              "      <td>more tax development both store agreement lawy...</td>\n",
              "      <td>2023-03-10</td>\n",
              "      <td>NY Times</td>\n",
              "      <td>Paula George</td>\n",
              "      <td>Politics</td>\n",
              "      <td>real</td>\n",
              "    </tr>\n",
              "    <tr>\n",
              "      <th>1</th>\n",
              "      <td>To offer down resource great point.</td>\n",
              "      <td>probably guess western behind likely next inve...</td>\n",
              "      <td>2022-05-25</td>\n",
              "      <td>Fox News</td>\n",
              "      <td>Joseph Hill</td>\n",
              "      <td>Politics</td>\n",
              "      <td>fake</td>\n",
              "    </tr>\n",
              "    <tr>\n",
              "      <th>2</th>\n",
              "      <td>Himself church myself carry.</td>\n",
              "      <td>them identify forward present success risk sev...</td>\n",
              "      <td>2022-09-01</td>\n",
              "      <td>CNN</td>\n",
              "      <td>Julia Robinson</td>\n",
              "      <td>Business</td>\n",
              "      <td>fake</td>\n",
              "    </tr>\n",
              "    <tr>\n",
              "      <th>3</th>\n",
              "      <td>You unit its should.</td>\n",
              "      <td>phone which item yard Republican safe where po...</td>\n",
              "      <td>2023-02-07</td>\n",
              "      <td>Reuters</td>\n",
              "      <td>Mr. David Foster DDS</td>\n",
              "      <td>Science</td>\n",
              "      <td>fake</td>\n",
              "    </tr>\n",
              "    <tr>\n",
              "      <th>4</th>\n",
              "      <td>Billion believe employee summer how.</td>\n",
              "      <td>wonder myself fact difficult course forget exa...</td>\n",
              "      <td>2023-04-03</td>\n",
              "      <td>CNN</td>\n",
              "      <td>Austin Walker</td>\n",
              "      <td>Technology</td>\n",
              "      <td>fake</td>\n",
              "    </tr>\n",
              "  </tbody>\n",
              "</table>\n",
              "</div>\n",
              "    <div class=\"colab-df-buttons\">\n",
              "\n",
              "  <div class=\"colab-df-container\">\n",
              "    <button class=\"colab-df-convert\" onclick=\"convertToInteractive('df-e8291e97-4bc8-49a6-831a-a59d733220c2')\"\n",
              "            title=\"Convert this dataframe to an interactive table.\"\n",
              "            style=\"display:none;\">\n",
              "\n",
              "  <svg xmlns=\"http://www.w3.org/2000/svg\" height=\"24px\" viewBox=\"0 -960 960 960\">\n",
              "    <path d=\"M120-120v-720h720v720H120Zm60-500h600v-160H180v160Zm220 220h160v-160H400v160Zm0 220h160v-160H400v160ZM180-400h160v-160H180v160Zm440 0h160v-160H620v160ZM180-180h160v-160H180v160Zm440 0h160v-160H620v160Z\"/>\n",
              "  </svg>\n",
              "    </button>\n",
              "\n",
              "  <style>\n",
              "    .colab-df-container {\n",
              "      display:flex;\n",
              "      gap: 12px;\n",
              "    }\n",
              "\n",
              "    .colab-df-convert {\n",
              "      background-color: #E8F0FE;\n",
              "      border: none;\n",
              "      border-radius: 50%;\n",
              "      cursor: pointer;\n",
              "      display: none;\n",
              "      fill: #1967D2;\n",
              "      height: 32px;\n",
              "      padding: 0 0 0 0;\n",
              "      width: 32px;\n",
              "    }\n",
              "\n",
              "    .colab-df-convert:hover {\n",
              "      background-color: #E2EBFA;\n",
              "      box-shadow: 0px 1px 2px rgba(60, 64, 67, 0.3), 0px 1px 3px 1px rgba(60, 64, 67, 0.15);\n",
              "      fill: #174EA6;\n",
              "    }\n",
              "\n",
              "    .colab-df-buttons div {\n",
              "      margin-bottom: 4px;\n",
              "    }\n",
              "\n",
              "    [theme=dark] .colab-df-convert {\n",
              "      background-color: #3B4455;\n",
              "      fill: #D2E3FC;\n",
              "    }\n",
              "\n",
              "    [theme=dark] .colab-df-convert:hover {\n",
              "      background-color: #434B5C;\n",
              "      box-shadow: 0px 1px 3px 1px rgba(0, 0, 0, 0.15);\n",
              "      filter: drop-shadow(0px 1px 2px rgba(0, 0, 0, 0.3));\n",
              "      fill: #FFFFFF;\n",
              "    }\n",
              "  </style>\n",
              "\n",
              "    <script>\n",
              "      const buttonEl =\n",
              "        document.querySelector('#df-e8291e97-4bc8-49a6-831a-a59d733220c2 button.colab-df-convert');\n",
              "      buttonEl.style.display =\n",
              "        google.colab.kernel.accessAllowed ? 'block' : 'none';\n",
              "\n",
              "      async function convertToInteractive(key) {\n",
              "        const element = document.querySelector('#df-e8291e97-4bc8-49a6-831a-a59d733220c2');\n",
              "        const dataTable =\n",
              "          await google.colab.kernel.invokeFunction('convertToInteractive',\n",
              "                                                    [key], {});\n",
              "        if (!dataTable) return;\n",
              "\n",
              "        const docLinkHtml = 'Like what you see? Visit the ' +\n",
              "          '<a target=\"_blank\" href=https://colab.research.google.com/notebooks/data_table.ipynb>data table notebook</a>'\n",
              "          + ' to learn more about interactive tables.';\n",
              "        element.innerHTML = '';\n",
              "        dataTable['output_type'] = 'display_data';\n",
              "        await google.colab.output.renderOutput(dataTable, element);\n",
              "        const docLink = document.createElement('div');\n",
              "        docLink.innerHTML = docLinkHtml;\n",
              "        element.appendChild(docLink);\n",
              "      }\n",
              "    </script>\n",
              "  </div>\n",
              "\n",
              "\n",
              "    <div id=\"df-771d33c4-ae03-44c0-9351-5b6fe4f52dcd\">\n",
              "      <button class=\"colab-df-quickchart\" onclick=\"quickchart('df-771d33c4-ae03-44c0-9351-5b6fe4f52dcd')\"\n",
              "                title=\"Suggest charts\"\n",
              "                style=\"display:none;\">\n",
              "\n",
              "<svg xmlns=\"http://www.w3.org/2000/svg\" height=\"24px\"viewBox=\"0 0 24 24\"\n",
              "     width=\"24px\">\n",
              "    <g>\n",
              "        <path d=\"M19 3H5c-1.1 0-2 .9-2 2v14c0 1.1.9 2 2 2h14c1.1 0 2-.9 2-2V5c0-1.1-.9-2-2-2zM9 17H7v-7h2v7zm4 0h-2V7h2v10zm4 0h-2v-4h2v4z\"/>\n",
              "    </g>\n",
              "</svg>\n",
              "      </button>\n",
              "\n",
              "<style>\n",
              "  .colab-df-quickchart {\n",
              "      --bg-color: #E8F0FE;\n",
              "      --fill-color: #1967D2;\n",
              "      --hover-bg-color: #E2EBFA;\n",
              "      --hover-fill-color: #174EA6;\n",
              "      --disabled-fill-color: #AAA;\n",
              "      --disabled-bg-color: #DDD;\n",
              "  }\n",
              "\n",
              "  [theme=dark] .colab-df-quickchart {\n",
              "      --bg-color: #3B4455;\n",
              "      --fill-color: #D2E3FC;\n",
              "      --hover-bg-color: #434B5C;\n",
              "      --hover-fill-color: #FFFFFF;\n",
              "      --disabled-bg-color: #3B4455;\n",
              "      --disabled-fill-color: #666;\n",
              "  }\n",
              "\n",
              "  .colab-df-quickchart {\n",
              "    background-color: var(--bg-color);\n",
              "    border: none;\n",
              "    border-radius: 50%;\n",
              "    cursor: pointer;\n",
              "    display: none;\n",
              "    fill: var(--fill-color);\n",
              "    height: 32px;\n",
              "    padding: 0;\n",
              "    width: 32px;\n",
              "  }\n",
              "\n",
              "  .colab-df-quickchart:hover {\n",
              "    background-color: var(--hover-bg-color);\n",
              "    box-shadow: 0 1px 2px rgba(60, 64, 67, 0.3), 0 1px 3px 1px rgba(60, 64, 67, 0.15);\n",
              "    fill: var(--button-hover-fill-color);\n",
              "  }\n",
              "\n",
              "  .colab-df-quickchart-complete:disabled,\n",
              "  .colab-df-quickchart-complete:disabled:hover {\n",
              "    background-color: var(--disabled-bg-color);\n",
              "    fill: var(--disabled-fill-color);\n",
              "    box-shadow: none;\n",
              "  }\n",
              "\n",
              "  .colab-df-spinner {\n",
              "    border: 2px solid var(--fill-color);\n",
              "    border-color: transparent;\n",
              "    border-bottom-color: var(--fill-color);\n",
              "    animation:\n",
              "      spin 1s steps(1) infinite;\n",
              "  }\n",
              "\n",
              "  @keyframes spin {\n",
              "    0% {\n",
              "      border-color: transparent;\n",
              "      border-bottom-color: var(--fill-color);\n",
              "      border-left-color: var(--fill-color);\n",
              "    }\n",
              "    20% {\n",
              "      border-color: transparent;\n",
              "      border-left-color: var(--fill-color);\n",
              "      border-top-color: var(--fill-color);\n",
              "    }\n",
              "    30% {\n",
              "      border-color: transparent;\n",
              "      border-left-color: var(--fill-color);\n",
              "      border-top-color: var(--fill-color);\n",
              "      border-right-color: var(--fill-color);\n",
              "    }\n",
              "    40% {\n",
              "      border-color: transparent;\n",
              "      border-right-color: var(--fill-color);\n",
              "      border-top-color: var(--fill-color);\n",
              "    }\n",
              "    60% {\n",
              "      border-color: transparent;\n",
              "      border-right-color: var(--fill-color);\n",
              "    }\n",
              "    80% {\n",
              "      border-color: transparent;\n",
              "      border-right-color: var(--fill-color);\n",
              "      border-bottom-color: var(--fill-color);\n",
              "    }\n",
              "    90% {\n",
              "      border-color: transparent;\n",
              "      border-bottom-color: var(--fill-color);\n",
              "    }\n",
              "  }\n",
              "</style>\n",
              "\n",
              "      <script>\n",
              "        async function quickchart(key) {\n",
              "          const quickchartButtonEl =\n",
              "            document.querySelector('#' + key + ' button');\n",
              "          quickchartButtonEl.disabled = true;  // To prevent multiple clicks.\n",
              "          quickchartButtonEl.classList.add('colab-df-spinner');\n",
              "          try {\n",
              "            const charts = await google.colab.kernel.invokeFunction(\n",
              "                'suggestCharts', [key], {});\n",
              "          } catch (error) {\n",
              "            console.error('Error during call to suggestCharts:', error);\n",
              "          }\n",
              "          quickchartButtonEl.classList.remove('colab-df-spinner');\n",
              "          quickchartButtonEl.classList.add('colab-df-quickchart-complete');\n",
              "        }\n",
              "        (() => {\n",
              "          let quickchartButtonEl =\n",
              "            document.querySelector('#df-771d33c4-ae03-44c0-9351-5b6fe4f52dcd button');\n",
              "          quickchartButtonEl.style.display =\n",
              "            google.colab.kernel.accessAllowed ? 'block' : 'none';\n",
              "        })();\n",
              "      </script>\n",
              "    </div>\n",
              "\n",
              "    </div>\n",
              "  </div>\n"
            ],
            "application/vnd.google.colaboratory.intrinsic+json": {
              "type": "dataframe",
              "variable_name": "df",
              "summary": "{\n  \"name\": \"df\",\n  \"rows\": 20000,\n  \"fields\": [\n    {\n      \"column\": \"title\",\n      \"properties\": {\n        \"dtype\": \"string\",\n        \"num_unique_values\": 20000,\n        \"samples\": [\n          \"Society image vote these realize prevent can.\",\n          \"Red offer dream again specific case.\",\n          \"Item nearly develop green.\"\n        ],\n        \"semantic_type\": \"\",\n        \"description\": \"\"\n      }\n    },\n    {\n      \"column\": \"text\",\n      \"properties\": {\n        \"dtype\": \"string\",\n        \"num_unique_values\": 20000,\n        \"samples\": [\n          \"better fall appear measure few prepare billion increase happy sit hot sure will since option a whose suddenly meet trade describe score people agreement speech professional answer red receive process industry imagine attorney reality her skin feeling treatment story final chance simply director threat else arm today nation start painting fire than step response song visit end staff we culture join bag help risk identify fill important weight class long let maybe good floor final address Mrs response style art certain something itself way forget partner poor good themselves forget indicate page door part explain growth opportunity century forward recognize five suffer commercial option once reflect assume site bring something age join between method south board east audience perform today support town as plan accept believe impact people also east usually fire can every enough arrive civil exist PM song might service financial final actually spring blood daughter performance wall within face look behind ask industry create century American evening research experience teach size specific sit certainly chance half company shake major film evidence financial ahead second church idea Republican put still within program carry smile someone as line strong fight drop toward sing difficult either hundred scene enter probably mouth after beat system decade learn music toward walk Mrs number peace available require general whom start south management network husband view many player art even determine memory west set rich although despite huge between probably red leader reflect medical vote government week heavy grow region never accept shoulder position pick beat film understand between very all inside image true decide evening\",\n          \"such east party truth place take tough stuff behind small method continue born eye happen billion magazine fast be join turn out someone serious character situation ahead plant over what out car note together in stage money treatment investment themselves determine nearly hotel determine court himself material family house store down anything lose second believe Mr prevent one anyone own next born process important use defense traditional care community enough because mind down news rest able executive within minute cup too participant suddenly when traditional reflect police act challenge work upon address cup several decide necessary likely mind purpose factor view which truth lawyer drop left theory fact how section middle picture red effort economic recognize present character point know human technology she court game edge push song everything news my them get painting audience everyone why share serious by necessary phone now green ten risk generation where TV member program whether very law career past option example smile kitchen traditional western behavior deep benefit organization near likely state structure population thought machine maybe same senior win wish per significant level lead evening store room for hour star night life subject natural style national day toward sense support energy long PM though group open tend if continue growth customer body reality cut writer enter four get south night player expect grow already owner weight different single rather condition player how pressure smile perhaps instead vote every various church degree gun part real but fast discover national dark various yet day it politics would court physical eight seat that teacher total yes open thought dog event he attack hour need accept position notice personal two impact open structure little second look less street easy brother between right billion look easy like agreement\",\n          \"here she wind budget impact who painting role when occur life enjoy same owner you manager training history high wall change center part project start discussion compare media allow interest ago far executive hand newspaper at send course they go game face truth wonder agreement one west history heavy open end use market reveal amount get degree customer form school necessary ready maintain actually song chair class hold pass make stage almost partner provide party material school hair local parent record later dinner start under realize available newspaper although probably now message husband account perhaps run military voice it have article foot action sell large his commercial eat spend example agree eye action middle on truth power report art room station edge argue work knowledge modern set young share either large whom community seem organization set production model realize when force prepare total total building manager city option standard his approach ball every house allow you spring lay bar study voice garden carry may discussion base him country future ten show culture hundred cup grow important let rich goal trip involve series success back future large surface avoid about enter beyond never catch necessary baby more hear dinner member toward treatment natural role forget image fight again low like city example time many model relationship help more option someone music parent audience put street present seek talk remember arm something loss all method build effort draw bit benefit let build on image eight stuff imagine he yeah none six hold section even employee compare suddenly likely health month still situation form middle attention arrive notice beyond son find floor high feel realize interest shake wind according young sometimes figure important wonder who ok organization professor course every certainly open everybody fly Congress worry floor before process artist\"\n        ],\n        \"semantic_type\": \"\",\n        \"description\": \"\"\n      }\n    },\n    {\n      \"column\": \"date\",\n      \"properties\": {\n        \"dtype\": \"object\",\n        \"num_unique_values\": 1096,\n        \"samples\": [\n          \"2023-04-21\",\n          \"2024-01-07\",\n          \"2024-01-11\"\n        ],\n        \"semantic_type\": \"\",\n        \"description\": \"\"\n      }\n    },\n    {\n      \"column\": \"source\",\n      \"properties\": {\n        \"dtype\": \"category\",\n        \"num_unique_values\": 8,\n        \"samples\": [\n          \"Fox News\",\n          \"Global Times\",\n          \"NY Times\"\n        ],\n        \"semantic_type\": \"\",\n        \"description\": \"\"\n      }\n    },\n    {\n      \"column\": \"author\",\n      \"properties\": {\n        \"dtype\": \"string\",\n        \"num_unique_values\": 17051,\n        \"samples\": [\n          \"James Harding\",\n          \"Breanna Deleon\",\n          \"Mr. Matthew Conway MD\"\n        ],\n        \"semantic_type\": \"\",\n        \"description\": \"\"\n      }\n    },\n    {\n      \"column\": \"category\",\n      \"properties\": {\n        \"dtype\": \"category\",\n        \"num_unique_values\": 7,\n        \"samples\": [\n          \"Politics\",\n          \"Business\",\n          \"Sports\"\n        ],\n        \"semantic_type\": \"\",\n        \"description\": \"\"\n      }\n    },\n    {\n      \"column\": \"label\",\n      \"properties\": {\n        \"dtype\": \"category\",\n        \"num_unique_values\": 2,\n        \"samples\": [\n          \"fake\",\n          \"real\"\n        ],\n        \"semantic_type\": \"\",\n        \"description\": \"\"\n      }\n    }\n  ]\n}"
            }
          },
          "metadata": {},
          "execution_count": 20
        }
      ]
    },
    {
      "cell_type": "markdown",
      "source": [
        "As the correlation of source and label are too low. I drop the ***source*** from dataset and also drop the ***date*** as it cannot be helpful for determine the target"
      ],
      "metadata": {
        "id": "QTx2OvbP5mjJ"
      }
    },
    {
      "cell_type": "code",
      "source": [
        "df.drop(['source','date'],axis = 1,inplace = True)\n"
      ],
      "metadata": {
        "id": "NhWXUZdPa2aO"
      },
      "execution_count": 21,
      "outputs": []
    },
    {
      "cell_type": "code",
      "source": [
        "df['category'].unique()"
      ],
      "metadata": {
        "colab": {
          "base_uri": "https://localhost:8080/"
        },
        "id": "atErWH1wjpfe",
        "outputId": "677bf9f5-0b73-4164-aebe-206045bf605c"
      },
      "execution_count": 23,
      "outputs": [
        {
          "output_type": "execute_result",
          "data": {
            "text/plain": [
              "array(['Politics', 'Business', 'Science', 'Technology', 'Health',\n",
              "       'Sports', 'Entertainment'], dtype=object)"
            ]
          },
          "metadata": {},
          "execution_count": 23
        }
      ]
    },
    {
      "cell_type": "code",
      "source": [
        "\n",
        "# Filter the dataframe to only include rows where the 'label' column is 'real'\n",
        "real_news_df = df[df['label'] == 'real']\n",
        "\n",
        "# Count the occurrences of each category in the filtered dataframe\n",
        "category_counts = real_news_df['category'].value_counts()\n",
        "\n",
        "# Print the category counts\n",
        "category_counts"
      ],
      "metadata": {
        "colab": {
          "base_uri": "https://localhost:8080/",
          "height": 335
        },
        "id": "pOMHIJXCkGGO",
        "outputId": "b04362c4-da2a-49e5-d50f-789a647829b3"
      },
      "execution_count": 31,
      "outputs": [
        {
          "output_type": "execute_result",
          "data": {
            "text/plain": [
              "category\n",
              "Technology       1458\n",
              "Health           1440\n",
              "Entertainment    1429\n",
              "Sports           1423\n",
              "Science          1413\n",
              "Politics         1403\n",
              "Business         1378\n",
              "Name: count, dtype: int64"
            ],
            "text/html": [
              "<div>\n",
              "<style scoped>\n",
              "    .dataframe tbody tr th:only-of-type {\n",
              "        vertical-align: middle;\n",
              "    }\n",
              "\n",
              "    .dataframe tbody tr th {\n",
              "        vertical-align: top;\n",
              "    }\n",
              "\n",
              "    .dataframe thead th {\n",
              "        text-align: right;\n",
              "    }\n",
              "</style>\n",
              "<table border=\"1\" class=\"dataframe\">\n",
              "  <thead>\n",
              "    <tr style=\"text-align: right;\">\n",
              "      <th></th>\n",
              "      <th>count</th>\n",
              "    </tr>\n",
              "    <tr>\n",
              "      <th>category</th>\n",
              "      <th></th>\n",
              "    </tr>\n",
              "  </thead>\n",
              "  <tbody>\n",
              "    <tr>\n",
              "      <th>Technology</th>\n",
              "      <td>1458</td>\n",
              "    </tr>\n",
              "    <tr>\n",
              "      <th>Health</th>\n",
              "      <td>1440</td>\n",
              "    </tr>\n",
              "    <tr>\n",
              "      <th>Entertainment</th>\n",
              "      <td>1429</td>\n",
              "    </tr>\n",
              "    <tr>\n",
              "      <th>Sports</th>\n",
              "      <td>1423</td>\n",
              "    </tr>\n",
              "    <tr>\n",
              "      <th>Science</th>\n",
              "      <td>1413</td>\n",
              "    </tr>\n",
              "    <tr>\n",
              "      <th>Politics</th>\n",
              "      <td>1403</td>\n",
              "    </tr>\n",
              "    <tr>\n",
              "      <th>Business</th>\n",
              "      <td>1378</td>\n",
              "    </tr>\n",
              "  </tbody>\n",
              "</table>\n",
              "</div><br><label><b>dtype:</b> int64</label>"
            ]
          },
          "metadata": {},
          "execution_count": 31
        }
      ]
    },
    {
      "cell_type": "code",
      "source": [
        "fake=df[df['label']=='fake']\n",
        "print(fake.shape)\n",
        "fake['category'].value_counts()\n"
      ],
      "metadata": {
        "colab": {
          "base_uri": "https://localhost:8080/",
          "height": 564
        },
        "id": "_iZbdyzflnZP",
        "outputId": "2bd50373-29a0-400a-b1e8-b688f367fd0f"
      },
      "execution_count": 61,
      "outputs": [
        {
          "output_type": "stream",
          "name": "stdout",
          "text": [
            "(10056, 5)\n"
          ]
        },
        {
          "output_type": "error",
          "ename": "KeyError",
          "evalue": "'category'",
          "traceback": [
            "\u001b[0;31m---------------------------------------------------------------------------\u001b[0m",
            "\u001b[0;31mKeyError\u001b[0m                                  Traceback (most recent call last)",
            "\u001b[0;32m/usr/local/lib/python3.11/dist-packages/pandas/core/indexes/base.py\u001b[0m in \u001b[0;36mget_loc\u001b[0;34m(self, key)\u001b[0m\n\u001b[1;32m   3804\u001b[0m         \u001b[0;32mtry\u001b[0m\u001b[0;34m:\u001b[0m\u001b[0;34m\u001b[0m\u001b[0;34m\u001b[0m\u001b[0m\n\u001b[0;32m-> 3805\u001b[0;31m             \u001b[0;32mreturn\u001b[0m \u001b[0mself\u001b[0m\u001b[0;34m.\u001b[0m\u001b[0m_engine\u001b[0m\u001b[0;34m.\u001b[0m\u001b[0mget_loc\u001b[0m\u001b[0;34m(\u001b[0m\u001b[0mcasted_key\u001b[0m\u001b[0;34m)\u001b[0m\u001b[0;34m\u001b[0m\u001b[0;34m\u001b[0m\u001b[0m\n\u001b[0m\u001b[1;32m   3806\u001b[0m         \u001b[0;32mexcept\u001b[0m \u001b[0mKeyError\u001b[0m \u001b[0;32mas\u001b[0m \u001b[0merr\u001b[0m\u001b[0;34m:\u001b[0m\u001b[0;34m\u001b[0m\u001b[0;34m\u001b[0m\u001b[0m\n",
            "\u001b[0;32mindex.pyx\u001b[0m in \u001b[0;36mpandas._libs.index.IndexEngine.get_loc\u001b[0;34m()\u001b[0m\n",
            "\u001b[0;32mindex.pyx\u001b[0m in \u001b[0;36mpandas._libs.index.IndexEngine.get_loc\u001b[0;34m()\u001b[0m\n",
            "\u001b[0;32mpandas/_libs/hashtable_class_helper.pxi\u001b[0m in \u001b[0;36mpandas._libs.hashtable.PyObjectHashTable.get_item\u001b[0;34m()\u001b[0m\n",
            "\u001b[0;32mpandas/_libs/hashtable_class_helper.pxi\u001b[0m in \u001b[0;36mpandas._libs.hashtable.PyObjectHashTable.get_item\u001b[0;34m()\u001b[0m\n",
            "\u001b[0;31mKeyError\u001b[0m: 'category'",
            "\nThe above exception was the direct cause of the following exception:\n",
            "\u001b[0;31mKeyError\u001b[0m                                  Traceback (most recent call last)",
            "\u001b[0;32m/tmp/ipython-input-61-763421480.py\u001b[0m in \u001b[0;36m<cell line: 0>\u001b[0;34m()\u001b[0m\n\u001b[1;32m      1\u001b[0m \u001b[0mfake\u001b[0m\u001b[0;34m=\u001b[0m\u001b[0mdf\u001b[0m\u001b[0;34m[\u001b[0m\u001b[0mdf\u001b[0m\u001b[0;34m[\u001b[0m\u001b[0;34m'label'\u001b[0m\u001b[0;34m]\u001b[0m\u001b[0;34m==\u001b[0m\u001b[0;34m'fake'\u001b[0m\u001b[0;34m]\u001b[0m\u001b[0;34m\u001b[0m\u001b[0;34m\u001b[0m\u001b[0m\n\u001b[1;32m      2\u001b[0m \u001b[0mprint\u001b[0m\u001b[0;34m(\u001b[0m\u001b[0mfake\u001b[0m\u001b[0;34m.\u001b[0m\u001b[0mshape\u001b[0m\u001b[0;34m)\u001b[0m\u001b[0;34m\u001b[0m\u001b[0;34m\u001b[0m\u001b[0m\n\u001b[0;32m----> 3\u001b[0;31m \u001b[0mfake\u001b[0m\u001b[0;34m[\u001b[0m\u001b[0;34m'category'\u001b[0m\u001b[0;34m]\u001b[0m\u001b[0;34m.\u001b[0m\u001b[0mvalue_counts\u001b[0m\u001b[0;34m(\u001b[0m\u001b[0;34m)\u001b[0m\u001b[0;34m.\u001b[0m\u001b[0mrandom_state\u001b[0m\u001b[0;34m\u001b[0m\u001b[0;34m\u001b[0m\u001b[0m\n\u001b[0m",
            "\u001b[0;32m/usr/local/lib/python3.11/dist-packages/pandas/core/frame.py\u001b[0m in \u001b[0;36m__getitem__\u001b[0;34m(self, key)\u001b[0m\n\u001b[1;32m   4100\u001b[0m             \u001b[0;32mif\u001b[0m \u001b[0mself\u001b[0m\u001b[0;34m.\u001b[0m\u001b[0mcolumns\u001b[0m\u001b[0;34m.\u001b[0m\u001b[0mnlevels\u001b[0m \u001b[0;34m>\u001b[0m \u001b[0;36m1\u001b[0m\u001b[0;34m:\u001b[0m\u001b[0;34m\u001b[0m\u001b[0;34m\u001b[0m\u001b[0m\n\u001b[1;32m   4101\u001b[0m                 \u001b[0;32mreturn\u001b[0m \u001b[0mself\u001b[0m\u001b[0;34m.\u001b[0m\u001b[0m_getitem_multilevel\u001b[0m\u001b[0;34m(\u001b[0m\u001b[0mkey\u001b[0m\u001b[0;34m)\u001b[0m\u001b[0;34m\u001b[0m\u001b[0;34m\u001b[0m\u001b[0m\n\u001b[0;32m-> 4102\u001b[0;31m             \u001b[0mindexer\u001b[0m \u001b[0;34m=\u001b[0m \u001b[0mself\u001b[0m\u001b[0;34m.\u001b[0m\u001b[0mcolumns\u001b[0m\u001b[0;34m.\u001b[0m\u001b[0mget_loc\u001b[0m\u001b[0;34m(\u001b[0m\u001b[0mkey\u001b[0m\u001b[0;34m)\u001b[0m\u001b[0;34m\u001b[0m\u001b[0;34m\u001b[0m\u001b[0m\n\u001b[0m\u001b[1;32m   4103\u001b[0m             \u001b[0;32mif\u001b[0m \u001b[0mis_integer\u001b[0m\u001b[0;34m(\u001b[0m\u001b[0mindexer\u001b[0m\u001b[0;34m)\u001b[0m\u001b[0;34m:\u001b[0m\u001b[0;34m\u001b[0m\u001b[0;34m\u001b[0m\u001b[0m\n\u001b[1;32m   4104\u001b[0m                 \u001b[0mindexer\u001b[0m \u001b[0;34m=\u001b[0m \u001b[0;34m[\u001b[0m\u001b[0mindexer\u001b[0m\u001b[0;34m]\u001b[0m\u001b[0;34m\u001b[0m\u001b[0;34m\u001b[0m\u001b[0m\n",
            "\u001b[0;32m/usr/local/lib/python3.11/dist-packages/pandas/core/indexes/base.py\u001b[0m in \u001b[0;36mget_loc\u001b[0;34m(self, key)\u001b[0m\n\u001b[1;32m   3810\u001b[0m             ):\n\u001b[1;32m   3811\u001b[0m                 \u001b[0;32mraise\u001b[0m \u001b[0mInvalidIndexError\u001b[0m\u001b[0;34m(\u001b[0m\u001b[0mkey\u001b[0m\u001b[0;34m)\u001b[0m\u001b[0;34m\u001b[0m\u001b[0;34m\u001b[0m\u001b[0m\n\u001b[0;32m-> 3812\u001b[0;31m             \u001b[0;32mraise\u001b[0m \u001b[0mKeyError\u001b[0m\u001b[0;34m(\u001b[0m\u001b[0mkey\u001b[0m\u001b[0;34m)\u001b[0m \u001b[0;32mfrom\u001b[0m \u001b[0merr\u001b[0m\u001b[0;34m\u001b[0m\u001b[0;34m\u001b[0m\u001b[0m\n\u001b[0m\u001b[1;32m   3813\u001b[0m         \u001b[0;32mexcept\u001b[0m \u001b[0mTypeError\u001b[0m\u001b[0;34m:\u001b[0m\u001b[0;34m\u001b[0m\u001b[0;34m\u001b[0m\u001b[0m\n\u001b[1;32m   3814\u001b[0m             \u001b[0;31m# If we have a listlike key, _check_indexing_error will raise\u001b[0m\u001b[0;34m\u001b[0m\u001b[0;34m\u001b[0m\u001b[0m\n",
            "\u001b[0;31mKeyError\u001b[0m: 'category'"
          ]
        }
      ]
    },
    {
      "cell_type": "markdown",
      "source": [
        "the ***catagorical*** feature has almost equal number of real and fake label for every value. So this feature is also unuseful for detection"
      ],
      "metadata": {
        "id": "0C1L0z97mSHW"
      }
    },
    {
      "cell_type": "code",
      "source": [
        "df.drop('category',axis = 1,inplace = True)"
      ],
      "metadata": {
        "id": "U_H3C6qmmwY_"
      },
      "execution_count": 41,
      "outputs": []
    },
    {
      "cell_type": "code",
      "source": [
        "df.head()"
      ],
      "metadata": {
        "colab": {
          "base_uri": "https://localhost:8080/",
          "height": 206
        },
        "id": "hYHSHLsxmzgH",
        "outputId": "0f8e7cde-6e07-4e1e-80fe-1b7d37ef85e7"
      },
      "execution_count": 42,
      "outputs": [
        {
          "output_type": "execute_result",
          "data": {
            "text/plain": [
              "                                  title  \\\n",
              "0               Foreign Democrat final.   \n",
              "1   To offer down resource great point.   \n",
              "2          Himself church myself carry.   \n",
              "3                  You unit its should.   \n",
              "4  Billion believe employee summer how.   \n",
              "\n",
              "                                                text                author  \\\n",
              "0  more tax development both store agreement lawy...          Paula George   \n",
              "1  probably guess western behind likely next inve...           Joseph Hill   \n",
              "2  them identify forward present success risk sev...        Julia Robinson   \n",
              "3  phone which item yard Republican safe where po...  Mr. David Foster DDS   \n",
              "4  wonder myself fact difficult course forget exa...         Austin Walker   \n",
              "\n",
              "  label  \n",
              "0  real  \n",
              "1  fake  \n",
              "2  fake  \n",
              "3  fake  \n",
              "4  fake  "
            ],
            "text/html": [
              "\n",
              "  <div id=\"df-4cf90ec9-00c2-47b2-8951-3d033f120838\" class=\"colab-df-container\">\n",
              "    <div>\n",
              "<style scoped>\n",
              "    .dataframe tbody tr th:only-of-type {\n",
              "        vertical-align: middle;\n",
              "    }\n",
              "\n",
              "    .dataframe tbody tr th {\n",
              "        vertical-align: top;\n",
              "    }\n",
              "\n",
              "    .dataframe thead th {\n",
              "        text-align: right;\n",
              "    }\n",
              "</style>\n",
              "<table border=\"1\" class=\"dataframe\">\n",
              "  <thead>\n",
              "    <tr style=\"text-align: right;\">\n",
              "      <th></th>\n",
              "      <th>title</th>\n",
              "      <th>text</th>\n",
              "      <th>author</th>\n",
              "      <th>label</th>\n",
              "    </tr>\n",
              "  </thead>\n",
              "  <tbody>\n",
              "    <tr>\n",
              "      <th>0</th>\n",
              "      <td>Foreign Democrat final.</td>\n",
              "      <td>more tax development both store agreement lawy...</td>\n",
              "      <td>Paula George</td>\n",
              "      <td>real</td>\n",
              "    </tr>\n",
              "    <tr>\n",
              "      <th>1</th>\n",
              "      <td>To offer down resource great point.</td>\n",
              "      <td>probably guess western behind likely next inve...</td>\n",
              "      <td>Joseph Hill</td>\n",
              "      <td>fake</td>\n",
              "    </tr>\n",
              "    <tr>\n",
              "      <th>2</th>\n",
              "      <td>Himself church myself carry.</td>\n",
              "      <td>them identify forward present success risk sev...</td>\n",
              "      <td>Julia Robinson</td>\n",
              "      <td>fake</td>\n",
              "    </tr>\n",
              "    <tr>\n",
              "      <th>3</th>\n",
              "      <td>You unit its should.</td>\n",
              "      <td>phone which item yard Republican safe where po...</td>\n",
              "      <td>Mr. David Foster DDS</td>\n",
              "      <td>fake</td>\n",
              "    </tr>\n",
              "    <tr>\n",
              "      <th>4</th>\n",
              "      <td>Billion believe employee summer how.</td>\n",
              "      <td>wonder myself fact difficult course forget exa...</td>\n",
              "      <td>Austin Walker</td>\n",
              "      <td>fake</td>\n",
              "    </tr>\n",
              "  </tbody>\n",
              "</table>\n",
              "</div>\n",
              "    <div class=\"colab-df-buttons\">\n",
              "\n",
              "  <div class=\"colab-df-container\">\n",
              "    <button class=\"colab-df-convert\" onclick=\"convertToInteractive('df-4cf90ec9-00c2-47b2-8951-3d033f120838')\"\n",
              "            title=\"Convert this dataframe to an interactive table.\"\n",
              "            style=\"display:none;\">\n",
              "\n",
              "  <svg xmlns=\"http://www.w3.org/2000/svg\" height=\"24px\" viewBox=\"0 -960 960 960\">\n",
              "    <path d=\"M120-120v-720h720v720H120Zm60-500h600v-160H180v160Zm220 220h160v-160H400v160Zm0 220h160v-160H400v160ZM180-400h160v-160H180v160Zm440 0h160v-160H620v160ZM180-180h160v-160H180v160Zm440 0h160v-160H620v160Z\"/>\n",
              "  </svg>\n",
              "    </button>\n",
              "\n",
              "  <style>\n",
              "    .colab-df-container {\n",
              "      display:flex;\n",
              "      gap: 12px;\n",
              "    }\n",
              "\n",
              "    .colab-df-convert {\n",
              "      background-color: #E8F0FE;\n",
              "      border: none;\n",
              "      border-radius: 50%;\n",
              "      cursor: pointer;\n",
              "      display: none;\n",
              "      fill: #1967D2;\n",
              "      height: 32px;\n",
              "      padding: 0 0 0 0;\n",
              "      width: 32px;\n",
              "    }\n",
              "\n",
              "    .colab-df-convert:hover {\n",
              "      background-color: #E2EBFA;\n",
              "      box-shadow: 0px 1px 2px rgba(60, 64, 67, 0.3), 0px 1px 3px 1px rgba(60, 64, 67, 0.15);\n",
              "      fill: #174EA6;\n",
              "    }\n",
              "\n",
              "    .colab-df-buttons div {\n",
              "      margin-bottom: 4px;\n",
              "    }\n",
              "\n",
              "    [theme=dark] .colab-df-convert {\n",
              "      background-color: #3B4455;\n",
              "      fill: #D2E3FC;\n",
              "    }\n",
              "\n",
              "    [theme=dark] .colab-df-convert:hover {\n",
              "      background-color: #434B5C;\n",
              "      box-shadow: 0px 1px 3px 1px rgba(0, 0, 0, 0.15);\n",
              "      filter: drop-shadow(0px 1px 2px rgba(0, 0, 0, 0.3));\n",
              "      fill: #FFFFFF;\n",
              "    }\n",
              "  </style>\n",
              "\n",
              "    <script>\n",
              "      const buttonEl =\n",
              "        document.querySelector('#df-4cf90ec9-00c2-47b2-8951-3d033f120838 button.colab-df-convert');\n",
              "      buttonEl.style.display =\n",
              "        google.colab.kernel.accessAllowed ? 'block' : 'none';\n",
              "\n",
              "      async function convertToInteractive(key) {\n",
              "        const element = document.querySelector('#df-4cf90ec9-00c2-47b2-8951-3d033f120838');\n",
              "        const dataTable =\n",
              "          await google.colab.kernel.invokeFunction('convertToInteractive',\n",
              "                                                    [key], {});\n",
              "        if (!dataTable) return;\n",
              "\n",
              "        const docLinkHtml = 'Like what you see? Visit the ' +\n",
              "          '<a target=\"_blank\" href=https://colab.research.google.com/notebooks/data_table.ipynb>data table notebook</a>'\n",
              "          + ' to learn more about interactive tables.';\n",
              "        element.innerHTML = '';\n",
              "        dataTable['output_type'] = 'display_data';\n",
              "        await google.colab.output.renderOutput(dataTable, element);\n",
              "        const docLink = document.createElement('div');\n",
              "        docLink.innerHTML = docLinkHtml;\n",
              "        element.appendChild(docLink);\n",
              "      }\n",
              "    </script>\n",
              "  </div>\n",
              "\n",
              "\n",
              "    <div id=\"df-cd6563ec-88e8-4fba-ae38-86f5d3143b1a\">\n",
              "      <button class=\"colab-df-quickchart\" onclick=\"quickchart('df-cd6563ec-88e8-4fba-ae38-86f5d3143b1a')\"\n",
              "                title=\"Suggest charts\"\n",
              "                style=\"display:none;\">\n",
              "\n",
              "<svg xmlns=\"http://www.w3.org/2000/svg\" height=\"24px\"viewBox=\"0 0 24 24\"\n",
              "     width=\"24px\">\n",
              "    <g>\n",
              "        <path d=\"M19 3H5c-1.1 0-2 .9-2 2v14c0 1.1.9 2 2 2h14c1.1 0 2-.9 2-2V5c0-1.1-.9-2-2-2zM9 17H7v-7h2v7zm4 0h-2V7h2v10zm4 0h-2v-4h2v4z\"/>\n",
              "    </g>\n",
              "</svg>\n",
              "      </button>\n",
              "\n",
              "<style>\n",
              "  .colab-df-quickchart {\n",
              "      --bg-color: #E8F0FE;\n",
              "      --fill-color: #1967D2;\n",
              "      --hover-bg-color: #E2EBFA;\n",
              "      --hover-fill-color: #174EA6;\n",
              "      --disabled-fill-color: #AAA;\n",
              "      --disabled-bg-color: #DDD;\n",
              "  }\n",
              "\n",
              "  [theme=dark] .colab-df-quickchart {\n",
              "      --bg-color: #3B4455;\n",
              "      --fill-color: #D2E3FC;\n",
              "      --hover-bg-color: #434B5C;\n",
              "      --hover-fill-color: #FFFFFF;\n",
              "      --disabled-bg-color: #3B4455;\n",
              "      --disabled-fill-color: #666;\n",
              "  }\n",
              "\n",
              "  .colab-df-quickchart {\n",
              "    background-color: var(--bg-color);\n",
              "    border: none;\n",
              "    border-radius: 50%;\n",
              "    cursor: pointer;\n",
              "    display: none;\n",
              "    fill: var(--fill-color);\n",
              "    height: 32px;\n",
              "    padding: 0;\n",
              "    width: 32px;\n",
              "  }\n",
              "\n",
              "  .colab-df-quickchart:hover {\n",
              "    background-color: var(--hover-bg-color);\n",
              "    box-shadow: 0 1px 2px rgba(60, 64, 67, 0.3), 0 1px 3px 1px rgba(60, 64, 67, 0.15);\n",
              "    fill: var(--button-hover-fill-color);\n",
              "  }\n",
              "\n",
              "  .colab-df-quickchart-complete:disabled,\n",
              "  .colab-df-quickchart-complete:disabled:hover {\n",
              "    background-color: var(--disabled-bg-color);\n",
              "    fill: var(--disabled-fill-color);\n",
              "    box-shadow: none;\n",
              "  }\n",
              "\n",
              "  .colab-df-spinner {\n",
              "    border: 2px solid var(--fill-color);\n",
              "    border-color: transparent;\n",
              "    border-bottom-color: var(--fill-color);\n",
              "    animation:\n",
              "      spin 1s steps(1) infinite;\n",
              "  }\n",
              "\n",
              "  @keyframes spin {\n",
              "    0% {\n",
              "      border-color: transparent;\n",
              "      border-bottom-color: var(--fill-color);\n",
              "      border-left-color: var(--fill-color);\n",
              "    }\n",
              "    20% {\n",
              "      border-color: transparent;\n",
              "      border-left-color: var(--fill-color);\n",
              "      border-top-color: var(--fill-color);\n",
              "    }\n",
              "    30% {\n",
              "      border-color: transparent;\n",
              "      border-left-color: var(--fill-color);\n",
              "      border-top-color: var(--fill-color);\n",
              "      border-right-color: var(--fill-color);\n",
              "    }\n",
              "    40% {\n",
              "      border-color: transparent;\n",
              "      border-right-color: var(--fill-color);\n",
              "      border-top-color: var(--fill-color);\n",
              "    }\n",
              "    60% {\n",
              "      border-color: transparent;\n",
              "      border-right-color: var(--fill-color);\n",
              "    }\n",
              "    80% {\n",
              "      border-color: transparent;\n",
              "      border-right-color: var(--fill-color);\n",
              "      border-bottom-color: var(--fill-color);\n",
              "    }\n",
              "    90% {\n",
              "      border-color: transparent;\n",
              "      border-bottom-color: var(--fill-color);\n",
              "    }\n",
              "  }\n",
              "</style>\n",
              "\n",
              "      <script>\n",
              "        async function quickchart(key) {\n",
              "          const quickchartButtonEl =\n",
              "            document.querySelector('#' + key + ' button');\n",
              "          quickchartButtonEl.disabled = true;  // To prevent multiple clicks.\n",
              "          quickchartButtonEl.classList.add('colab-df-spinner');\n",
              "          try {\n",
              "            const charts = await google.colab.kernel.invokeFunction(\n",
              "                'suggestCharts', [key], {});\n",
              "          } catch (error) {\n",
              "            console.error('Error during call to suggestCharts:', error);\n",
              "          }\n",
              "          quickchartButtonEl.classList.remove('colab-df-spinner');\n",
              "          quickchartButtonEl.classList.add('colab-df-quickchart-complete');\n",
              "        }\n",
              "        (() => {\n",
              "          let quickchartButtonEl =\n",
              "            document.querySelector('#df-cd6563ec-88e8-4fba-ae38-86f5d3143b1a button');\n",
              "          quickchartButtonEl.style.display =\n",
              "            google.colab.kernel.accessAllowed ? 'block' : 'none';\n",
              "        })();\n",
              "      </script>\n",
              "    </div>\n",
              "\n",
              "    </div>\n",
              "  </div>\n"
            ],
            "application/vnd.google.colaboratory.intrinsic+json": {
              "type": "dataframe",
              "variable_name": "df",
              "summary": "{\n  \"name\": \"df\",\n  \"rows\": 20000,\n  \"fields\": [\n    {\n      \"column\": \"title\",\n      \"properties\": {\n        \"dtype\": \"string\",\n        \"num_unique_values\": 20000,\n        \"samples\": [\n          \"Society image vote these realize prevent can.\",\n          \"Red offer dream again specific case.\",\n          \"Item nearly develop green.\"\n        ],\n        \"semantic_type\": \"\",\n        \"description\": \"\"\n      }\n    },\n    {\n      \"column\": \"text\",\n      \"properties\": {\n        \"dtype\": \"string\",\n        \"num_unique_values\": 20000,\n        \"samples\": [\n          \"better fall appear measure few prepare billion increase happy sit hot sure will since option a whose suddenly meet trade describe score people agreement speech professional answer red receive process industry imagine attorney reality her skin feeling treatment story final chance simply director threat else arm today nation start painting fire than step response song visit end staff we culture join bag help risk identify fill important weight class long let maybe good floor final address Mrs response style art certain something itself way forget partner poor good themselves forget indicate page door part explain growth opportunity century forward recognize five suffer commercial option once reflect assume site bring something age join between method south board east audience perform today support town as plan accept believe impact people also east usually fire can every enough arrive civil exist PM song might service financial final actually spring blood daughter performance wall within face look behind ask industry create century American evening research experience teach size specific sit certainly chance half company shake major film evidence financial ahead second church idea Republican put still within program carry smile someone as line strong fight drop toward sing difficult either hundred scene enter probably mouth after beat system decade learn music toward walk Mrs number peace available require general whom start south management network husband view many player art even determine memory west set rich although despite huge between probably red leader reflect medical vote government week heavy grow region never accept shoulder position pick beat film understand between very all inside image true decide evening\",\n          \"such east party truth place take tough stuff behind small method continue born eye happen billion magazine fast be join turn out someone serious character situation ahead plant over what out car note together in stage money treatment investment themselves determine nearly hotel determine court himself material family house store down anything lose second believe Mr prevent one anyone own next born process important use defense traditional care community enough because mind down news rest able executive within minute cup too participant suddenly when traditional reflect police act challenge work upon address cup several decide necessary likely mind purpose factor view which truth lawyer drop left theory fact how section middle picture red effort economic recognize present character point know human technology she court game edge push song everything news my them get painting audience everyone why share serious by necessary phone now green ten risk generation where TV member program whether very law career past option example smile kitchen traditional western behavior deep benefit organization near likely state structure population thought machine maybe same senior win wish per significant level lead evening store room for hour star night life subject natural style national day toward sense support energy long PM though group open tend if continue growth customer body reality cut writer enter four get south night player expect grow already owner weight different single rather condition player how pressure smile perhaps instead vote every various church degree gun part real but fast discover national dark various yet day it politics would court physical eight seat that teacher total yes open thought dog event he attack hour need accept position notice personal two impact open structure little second look less street easy brother between right billion look easy like agreement\",\n          \"here she wind budget impact who painting role when occur life enjoy same owner you manager training history high wall change center part project start discussion compare media allow interest ago far executive hand newspaper at send course they go game face truth wonder agreement one west history heavy open end use market reveal amount get degree customer form school necessary ready maintain actually song chair class hold pass make stage almost partner provide party material school hair local parent record later dinner start under realize available newspaper although probably now message husband account perhaps run military voice it have article foot action sell large his commercial eat spend example agree eye action middle on truth power report art room station edge argue work knowledge modern set young share either large whom community seem organization set production model realize when force prepare total total building manager city option standard his approach ball every house allow you spring lay bar study voice garden carry may discussion base him country future ten show culture hundred cup grow important let rich goal trip involve series success back future large surface avoid about enter beyond never catch necessary baby more hear dinner member toward treatment natural role forget image fight again low like city example time many model relationship help more option someone music parent audience put street present seek talk remember arm something loss all method build effort draw bit benefit let build on image eight stuff imagine he yeah none six hold section even employee compare suddenly likely health month still situation form middle attention arrive notice beyond son find floor high feel realize interest shake wind according young sometimes figure important wonder who ok organization professor course every certainly open everybody fly Congress worry floor before process artist\"\n        ],\n        \"semantic_type\": \"\",\n        \"description\": \"\"\n      }\n    },\n    {\n      \"column\": \"author\",\n      \"properties\": {\n        \"dtype\": \"string\",\n        \"num_unique_values\": 17051,\n        \"samples\": [\n          \"James Harding\",\n          \"Breanna Deleon\",\n          \"Mr. Matthew Conway MD\"\n        ],\n        \"semantic_type\": \"\",\n        \"description\": \"\"\n      }\n    },\n    {\n      \"column\": \"label\",\n      \"properties\": {\n        \"dtype\": \"category\",\n        \"num_unique_values\": 2,\n        \"samples\": [\n          \"fake\",\n          \"real\"\n        ],\n        \"semantic_type\": \"\",\n        \"description\": \"\"\n      }\n    }\n  ]\n}"
            }
          },
          "metadata": {},
          "execution_count": 42
        }
      ]
    },
    {
      "cell_type": "markdown",
      "source": [
        "### Using Logistic Regression"
      ],
      "metadata": {
        "id": "SwxBtGid3QWk"
      }
    },
    {
      "cell_type": "code",
      "source": [
        "df['author'] = df['author'].fillna('')\n",
        "df['title'] = df['title'].fillna('')\n",
        "df['text']=df['text'].fillna('')\n",
        "df['content'] = df['author']+' '+df['title']+' '+df['text']\n",
        "#seperating the data and the labels\n",
        "X = df.drop('label',axis = 1)\n",
        "Y = df['label']\n",
        "\n",
        "#Stemming\n",
        "ps = PorterStemmer()\n",
        "def stemming(content):\n",
        "  review = re.sub('[^a-zA-Z]',' ',content)\n",
        "  review = review.lower()\n",
        "  review = review.split()\n",
        "  review = [ps.stem(word) for word in review if not word in stopwords.words('english')]\n",
        "  review = ' '.join(review)\n",
        "  return review\n",
        "\n",
        "df['content'] = df['content'].apply(stemming)\n",
        "#seperating the data and the labels\n",
        "X = df['content'].values\n",
        "Y = df['label'].values\n",
        "\n",
        "#converting the textual data to numerical data\n",
        "vectorizer = TfidfVectorizer()\n",
        "vectorizer.fit(X)\n",
        "X = vectorizer.transform(X)\n",
        "\n",
        "#Splitting the data into training and test data\n",
        "X_train, X_test, Y_train, Y_test = train_test_split(X,Y, test_size = 0.2, stratify = Y, random_state = 2)\n",
        "\n",
        "#Training the model with Logistic Regression\n",
        "model = LogisticRegression()\n",
        "model.fit(X_train,Y_train)\n",
        "\n",
        "#Evaluating the model with testing data\n",
        "X_test_prediction = model.predict(X_test)\n",
        "test_data_accuracy = accuracy_score(X_test_prediction,Y_test)\n",
        "print(\"Test data accuracy: \", test_data_accuracy)"
      ],
      "metadata": {
        "colab": {
          "base_uri": "https://localhost:8080/"
        },
        "id": "bpSpd2ZeyYI1",
        "outputId": "d4add954-085f-486a-b787-97c3498af5d2"
      },
      "execution_count": 58,
      "outputs": [
        {
          "output_type": "stream",
          "name": "stdout",
          "text": [
            "Test data accuracy:  0.514\n"
          ]
        }
      ]
    },
    {
      "cell_type": "markdown",
      "source": [
        "### Using SVM model"
      ],
      "metadata": {
        "id": "_ArPYLbm3E7g"
      }
    },
    {
      "cell_type": "code",
      "source": [
        "\n",
        "from sklearn import svm\n",
        "\n",
        "# Training the model with SVM\n",
        "svm_model = svm.SVC()\n",
        "svm_model.fit(X_train, Y_train)\n",
        "\n",
        "# Evaluating the SVM model with testing data\n",
        "X_test_prediction_svm = svm_model.predict(X_test)\n",
        "test_data_accuracy_svm = accuracy_score(X_test_prediction_svm, Y_test)\n",
        "print(\"SVM Test data accuracy:\", test_data_accuracy_svm)\n"
      ],
      "metadata": {
        "colab": {
          "base_uri": "https://localhost:8080/"
        },
        "id": "ttUnREF9yVr3",
        "outputId": "89e69c27-611b-4548-ba0f-5e68402406a8"
      },
      "execution_count": 59,
      "outputs": [
        {
          "output_type": "stream",
          "name": "stdout",
          "text": [
            "SVM Test data accuracy: 0.51525\n"
          ]
        }
      ]
    },
    {
      "cell_type": "markdown",
      "source": [
        "Accuracy score using Logistic Regression is :**0.514**\n",
        "\n",
        "\n",
        "Accuracy score using SVM is: **0.51525**"
      ],
      "metadata": {
        "id": "HCraYqPu2iep"
      }
    }
  ]
}